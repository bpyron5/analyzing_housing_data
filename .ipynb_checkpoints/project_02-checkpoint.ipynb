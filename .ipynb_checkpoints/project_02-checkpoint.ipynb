{
 "cells": [
  {
   "cell_type": "markdown",
   "metadata": {},
   "source": [
    "# Project 2: Ames Housing Data\n",
    "\n",
    "The data set used in this project contains information from the Ames Assessor’s Office. It was used in computing assessed values for individual residential properties sold in Ames, IA from 2006 to 2010. [1]"
   ]
  },
  {
   "cell_type": "markdown",
   "metadata": {},
   "source": [
    "## Problem Statement\n",
    "\n",
    "Can sale prices for houses in Ames, Iowa be predicted accurately using the data provided by the Ames Assessor's Office?"
   ]
  },
  {
   "cell_type": "markdown",
   "metadata": {},
   "source": [
    "## Executive Summary\n",
    "\n",
    "The goal of this project is to construct a model that successfully predicts sale prices for houses in Ames, Iowa using the data provided. The hope is to do so using as competitive a model as possible.\n",
    "\n",
    "The resulting model performs well here and scores well in the kaggle competition based off the same data. Though outliers are present, their effect in this case on the success of the model is largely inconsequential.\n",
    "\n",
    "It is concluded that the data provided is in fact useful for predicting house sale prices in Ames, Iowa, and that this is accomplished particularly well using the the model produced here. It is recommended that those responsible for future data collection be especially mindful about overall house quality as it is the single most effective feature in predicting sale price."
   ]
  },
  {
   "cell_type": "markdown",
   "metadata": {},
   "source": [
    "### Contents:\n",
    "- [Data Import](#Data-Import)\n",
    "- [Data Cleaning](#Data-Cleaning)\n",
    "- [Data Exploration](#Data-Exploration)\n",
    "- [Data Visualization](#Data-Visualization)\n",
    "- [Data Modeling](#Data-Modeling)\n",
    "- [Conclusions and Recommendations](#Conclusions-and-Recommendations)\n",
    "- [References](#References)"
   ]
  },
  {
   "cell_type": "markdown",
   "metadata": {},
   "source": [
    "## Data Import"
   ]
  },
  {
   "cell_type": "code",
   "execution_count": 49,
   "metadata": {},
   "outputs": [],
   "source": [
    "import pandas as pd\n",
    "import matplotlib.pyplot as plt\n",
    "import numpy as np\n",
    "import seaborn as sns\n",
    "\n",
    "from sklearn.linear_model import RidgeCV, LassoCV\n",
    "from sklearn.model_selection import GridSearchCV, train_test_split\n",
    "from sklearn.pipeline import Pipeline\n",
    "from sklearn.preprocessing import PolynomialFeatures, StandardScaler\n",
    "from sklearn.metrics import mean_squared_error\n",
    "\n",
    "%matplotlib inline\n",
    "\n",
    "import warnings\n",
    "warnings.filterwarnings(\"ignore\")"
   ]
  },
  {
   "cell_type": "markdown",
   "metadata": {},
   "source": [
    "It should be noted here that panda's default handling of expressions commonly recognized as null will be problematic. This is addressed in the following read_csv statement."
   ]
  },
  {
   "cell_type": "code",
   "execution_count": 50,
   "metadata": {},
   "outputs": [
    {
     "data": {
      "text/html": [
       "<div>\n",
       "<style scoped>\n",
       "    .dataframe tbody tr th:only-of-type {\n",
       "        vertical-align: middle;\n",
       "    }\n",
       "\n",
       "    .dataframe tbody tr th {\n",
       "        vertical-align: top;\n",
       "    }\n",
       "\n",
       "    .dataframe thead th {\n",
       "        text-align: right;\n",
       "    }\n",
       "</style>\n",
       "<table border=\"1\" class=\"dataframe\">\n",
       "  <thead>\n",
       "    <tr style=\"text-align: right;\">\n",
       "      <th></th>\n",
       "      <th>Id</th>\n",
       "      <th>PID</th>\n",
       "      <th>MS SubClass</th>\n",
       "      <th>MS Zoning</th>\n",
       "      <th>Lot Frontage</th>\n",
       "      <th>Lot Area</th>\n",
       "      <th>Street</th>\n",
       "      <th>Alley</th>\n",
       "      <th>Lot Shape</th>\n",
       "      <th>Land Contour</th>\n",
       "      <th>...</th>\n",
       "      <th>Screen Porch</th>\n",
       "      <th>Pool Area</th>\n",
       "      <th>Pool QC</th>\n",
       "      <th>Fence</th>\n",
       "      <th>Misc Feature</th>\n",
       "      <th>Misc Val</th>\n",
       "      <th>Mo Sold</th>\n",
       "      <th>Yr Sold</th>\n",
       "      <th>Sale Type</th>\n",
       "      <th>SalePrice</th>\n",
       "    </tr>\n",
       "  </thead>\n",
       "  <tbody>\n",
       "    <tr>\n",
       "      <th>0</th>\n",
       "      <td>109</td>\n",
       "      <td>533352170</td>\n",
       "      <td>60</td>\n",
       "      <td>RL</td>\n",
       "      <td>NaN</td>\n",
       "      <td>13517</td>\n",
       "      <td>Pave</td>\n",
       "      <td>NA</td>\n",
       "      <td>IR1</td>\n",
       "      <td>Lvl</td>\n",
       "      <td>...</td>\n",
       "      <td>0</td>\n",
       "      <td>0</td>\n",
       "      <td>NA</td>\n",
       "      <td>NA</td>\n",
       "      <td>NA</td>\n",
       "      <td>0</td>\n",
       "      <td>3</td>\n",
       "      <td>2010</td>\n",
       "      <td>WD</td>\n",
       "      <td>130500</td>\n",
       "    </tr>\n",
       "    <tr>\n",
       "      <th>1</th>\n",
       "      <td>544</td>\n",
       "      <td>531379050</td>\n",
       "      <td>60</td>\n",
       "      <td>RL</td>\n",
       "      <td>43.0</td>\n",
       "      <td>11492</td>\n",
       "      <td>Pave</td>\n",
       "      <td>NA</td>\n",
       "      <td>IR1</td>\n",
       "      <td>Lvl</td>\n",
       "      <td>...</td>\n",
       "      <td>0</td>\n",
       "      <td>0</td>\n",
       "      <td>NA</td>\n",
       "      <td>NA</td>\n",
       "      <td>NA</td>\n",
       "      <td>0</td>\n",
       "      <td>4</td>\n",
       "      <td>2009</td>\n",
       "      <td>WD</td>\n",
       "      <td>220000</td>\n",
       "    </tr>\n",
       "    <tr>\n",
       "      <th>2</th>\n",
       "      <td>153</td>\n",
       "      <td>535304180</td>\n",
       "      <td>20</td>\n",
       "      <td>RL</td>\n",
       "      <td>68.0</td>\n",
       "      <td>7922</td>\n",
       "      <td>Pave</td>\n",
       "      <td>NA</td>\n",
       "      <td>Reg</td>\n",
       "      <td>Lvl</td>\n",
       "      <td>...</td>\n",
       "      <td>0</td>\n",
       "      <td>0</td>\n",
       "      <td>NA</td>\n",
       "      <td>NA</td>\n",
       "      <td>NA</td>\n",
       "      <td>0</td>\n",
       "      <td>1</td>\n",
       "      <td>2010</td>\n",
       "      <td>WD</td>\n",
       "      <td>109000</td>\n",
       "    </tr>\n",
       "    <tr>\n",
       "      <th>3</th>\n",
       "      <td>318</td>\n",
       "      <td>916386060</td>\n",
       "      <td>60</td>\n",
       "      <td>RL</td>\n",
       "      <td>73.0</td>\n",
       "      <td>9802</td>\n",
       "      <td>Pave</td>\n",
       "      <td>NA</td>\n",
       "      <td>Reg</td>\n",
       "      <td>Lvl</td>\n",
       "      <td>...</td>\n",
       "      <td>0</td>\n",
       "      <td>0</td>\n",
       "      <td>NA</td>\n",
       "      <td>NA</td>\n",
       "      <td>NA</td>\n",
       "      <td>0</td>\n",
       "      <td>4</td>\n",
       "      <td>2010</td>\n",
       "      <td>WD</td>\n",
       "      <td>174000</td>\n",
       "    </tr>\n",
       "    <tr>\n",
       "      <th>4</th>\n",
       "      <td>255</td>\n",
       "      <td>906425045</td>\n",
       "      <td>50</td>\n",
       "      <td>RL</td>\n",
       "      <td>82.0</td>\n",
       "      <td>14235</td>\n",
       "      <td>Pave</td>\n",
       "      <td>NA</td>\n",
       "      <td>IR1</td>\n",
       "      <td>Lvl</td>\n",
       "      <td>...</td>\n",
       "      <td>0</td>\n",
       "      <td>0</td>\n",
       "      <td>NA</td>\n",
       "      <td>NA</td>\n",
       "      <td>NA</td>\n",
       "      <td>0</td>\n",
       "      <td>3</td>\n",
       "      <td>2010</td>\n",
       "      <td>WD</td>\n",
       "      <td>138500</td>\n",
       "    </tr>\n",
       "  </tbody>\n",
       "</table>\n",
       "<p>5 rows × 81 columns</p>\n",
       "</div>"
      ],
      "text/plain": [
       "    Id        PID  MS SubClass MS Zoning  Lot Frontage  Lot Area Street Alley  \\\n",
       "0  109  533352170           60        RL           NaN     13517   Pave    NA   \n",
       "1  544  531379050           60        RL          43.0     11492   Pave    NA   \n",
       "2  153  535304180           20        RL          68.0      7922   Pave    NA   \n",
       "3  318  916386060           60        RL          73.0      9802   Pave    NA   \n",
       "4  255  906425045           50        RL          82.0     14235   Pave    NA   \n",
       "\n",
       "  Lot Shape Land Contour    ...     Screen Porch Pool Area Pool QC Fence  \\\n",
       "0       IR1          Lvl    ...                0         0      NA    NA   \n",
       "1       IR1          Lvl    ...                0         0      NA    NA   \n",
       "2       Reg          Lvl    ...                0         0      NA    NA   \n",
       "3       Reg          Lvl    ...                0         0      NA    NA   \n",
       "4       IR1          Lvl    ...                0         0      NA    NA   \n",
       "\n",
       "  Misc Feature Misc Val Mo Sold Yr Sold  Sale Type  SalePrice  \n",
       "0           NA        0       3    2010        WD      130500  \n",
       "1           NA        0       4    2009        WD      220000  \n",
       "2           NA        0       1    2010        WD      109000  \n",
       "3           NA        0       4    2010        WD      174000  \n",
       "4           NA        0       3    2010        WD      138500  \n",
       "\n",
       "[5 rows x 81 columns]"
      ]
     },
     "execution_count": 50,
     "metadata": {},
     "output_type": "execute_result"
    }
   ],
   "source": [
    "test_df = pd.read_csv('./datasets/test.csv', keep_default_na=False, na_values='')\n",
    "train_df = pd.read_csv('./datasets/train.csv', keep_default_na=False, na_values='')\n",
    "\n",
    "train_df.head()"
   ]
  },
  {
   "cell_type": "markdown",
   "metadata": {},
   "source": [
    "## Data Cleaning\n",
    "\n",
    "A series of checks will be performed to ensure the integrity of the analysis going forward. If anything is off, it will addressed in this section. "
   ]
  },
  {
   "cell_type": "code",
   "execution_count": 51,
   "metadata": {},
   "outputs": [
    {
     "data": {
      "text/plain": [
       "(2051, 81)"
      ]
     },
     "execution_count": 51,
     "metadata": {},
     "output_type": "execute_result"
    }
   ],
   "source": [
    "# checking shape of data frame\n",
    "train_df.shape"
   ]
  },
  {
   "cell_type": "code",
   "execution_count": 52,
   "metadata": {},
   "outputs": [
    {
     "data": {
      "text/plain": [
       "Index(['id', 'pid', 'ms_subclass', 'ms_zoning', 'lot_frontage'], dtype='object')"
      ]
     },
     "execution_count": 52,
     "metadata": {},
     "output_type": "execute_result"
    }
   ],
   "source": [
    "# renaming columns so that each is more easily referenced\n",
    "for column in train_df.columns:\n",
    "    train_df = train_df.rename(columns={column: column.replace(' ','_').lower()})\n",
    "    if column != 'SalePrice':\n",
    "        test_df = test_df.rename(columns={column: column.replace(' ','_').lower()})\n",
    "\n",
    "train_df.columns[:5]"
   ]
  },
  {
   "cell_type": "code",
   "execution_count": 53,
   "metadata": {},
   "outputs": [
    {
     "name": "stdout",
     "output_type": "stream",
     "text": [
      "No data type issues found!\n"
     ]
    }
   ],
   "source": [
    "# defining function to help check for data type conflicts\n",
    "def num_floats_possible(dataframe_column):\n",
    "    counter = 0\n",
    "    for cell in dataframe_column[dataframe_column.isnull() == False]:\n",
    "        try:\n",
    "            float(cell)\n",
    "            counter += 1\n",
    "        except:\n",
    "            pass\n",
    "    return counter\n",
    "\n",
    "# checking for data type conflicts\n",
    "issues_found = 0\n",
    "for column in train_df.columns:\n",
    "    if train_df[column].dtypes == object:\n",
    "        if (num_floats_possible(train_df[column]) / train_df[column].count()) > 0:\n",
    "            print(column, num_floats_possible(train_df[column]) / train_df[column].count())\n",
    "            issues_found += 1\n",
    "if issues_found == 0:\n",
    "    print('No data type issues found!')"
   ]
  },
  {
   "cell_type": "code",
   "execution_count": 54,
   "metadata": {},
   "outputs": [
    {
     "name": "stdout",
     "output_type": "stream",
     "text": [
      "ms_zoning:\n",
      "['A (agr)', 'A (agr)']\n",
      "['RM', 'RM'] \n",
      "\n",
      "street:\n",
      "['Grvl', 'Grvl']\n",
      "['Pave', 'Pave'] \n",
      "\n",
      "alley:\n",
      "['Grvl', 'Grvl']\n",
      "['Pave', 'Pave'] \n",
      "\n",
      "lot_shape:\n",
      "['IR1', 'IR1']\n",
      "['Reg', 'Reg'] \n",
      "\n",
      "land_contour:\n",
      "['Bnk', 'Bnk']\n",
      "['Lvl', 'Lvl'] \n",
      "\n",
      "utilities:\n",
      "['AllPub', 'AllPub']\n",
      "['AllPub', 'NoSeWa'] \n",
      "\n",
      "lot_config:\n",
      "['Corner', 'Corner']\n",
      "['Inside', 'Inside'] \n",
      "\n",
      "land_slope:\n",
      "['Gtl', 'Gtl']\n",
      "['Sev', 'Sev'] \n",
      "\n",
      "neighborhood:\n",
      "['Blmngtn', 'Blmngtn']\n",
      "['Veenker', 'Veenker'] \n",
      "\n",
      "condition_1:\n",
      "['Artery', 'Artery']\n",
      "['RRNn', 'RRNn'] \n",
      "\n",
      "condition_2:\n",
      "['Artery', 'Artery']\n",
      "['RRAn', 'RRNn'] \n",
      "\n",
      "bldg_type:\n",
      "['1Fam', '1Fam']\n",
      "['TwnhsE', 'TwnhsE'] \n",
      "\n",
      "house_style:\n",
      "['1.5Fin', '1.5Fin']\n",
      "['SLvl', 'SLvl'] \n",
      "\n",
      "roof_style:\n",
      "['Flat', 'Flat']\n",
      "['Shed', 'Shed'] \n",
      "\n",
      "roof_matl:\n",
      "['ClyTile', 'CompShg']\n",
      "['WdShngl', 'WdShngl'] \n",
      "\n",
      "exterior_1st:\n",
      "['AsbShng', 'AsbShng']\n",
      "['WdShing', 'WdShing'] \n",
      "\n",
      "exterior_2nd:\n",
      "['AsbShng', 'AsbShng']\n",
      "['Wd Shng', 'Wd Shng'] \n",
      "\n",
      "mas_vnr_type:\n",
      "['BrkCmn', 'BrkCmn']\n",
      "[nan, nan] \n",
      "\n",
      "exter_qual:\n",
      "['Ex', 'Ex']\n",
      "['TA', 'TA'] \n",
      "\n",
      "exter_cond:\n",
      "['Ex', 'Ex']\n",
      "['TA', 'TA'] \n",
      "\n",
      "foundation:\n",
      "['BrkTil', 'BrkTil']\n",
      "['Stone', 'Wood'] \n",
      "\n",
      "bsmt_qual:\n",
      "['Ex', 'Ex']\n",
      "['TA', 'TA'] \n",
      "\n",
      "bsmt_cond:\n",
      "['Ex', 'Ex']\n",
      "['TA', 'TA'] \n",
      "\n",
      "bsmt_exposure:\n",
      "['Av', 'Av']\n",
      "[nan, nan] \n",
      "\n",
      "bsmtfin_type_1:\n",
      "['ALQ', 'ALQ']\n",
      "['Unf', 'Unf'] \n",
      "\n",
      "bsmtfin_type_2:\n",
      "['ALQ', 'ALQ']\n",
      "['Unf', nan] \n",
      "\n",
      "heating:\n",
      "['GasA', 'GasA']\n",
      "['Wall', 'Wall'] \n",
      "\n",
      "heating_qc:\n",
      "['Ex', 'Ex']\n",
      "['TA', 'TA'] \n",
      "\n",
      "central_air:\n",
      "['N', 'N']\n",
      "['Y', 'Y'] \n",
      "\n",
      "electrical:\n",
      "['FuseA', 'FuseA']\n",
      "['SBrkr', 'SBrkr'] \n",
      "\n",
      "kitchen_qual:\n",
      "['Ex', 'Ex']\n",
      "['TA', 'TA'] \n",
      "\n",
      "functional:\n",
      "['Maj1', 'Maj1']\n",
      "['Typ', 'Typ'] \n",
      "\n",
      "fireplace_qu:\n",
      "['Ex', 'Ex']\n",
      "['TA', 'TA'] \n",
      "\n",
      "garage_type:\n",
      "['2Types', '2Types']\n",
      "['NA', 'NA'] \n",
      "\n",
      "garage_finish:\n",
      "['Fin', 'Fin']\n",
      "['Unf', 'Unf'] \n",
      "\n",
      "garage_qual:\n",
      "['Ex', 'Ex']\n",
      "['TA', 'TA'] \n",
      "\n",
      "garage_cond:\n",
      "['Ex', 'Ex']\n",
      "['TA', 'TA'] \n",
      "\n",
      "paved_drive:\n",
      "['N', 'N']\n",
      "['Y', 'Y'] \n",
      "\n",
      "pool_qc:\n",
      "['Ex', 'Fa']\n",
      "['NA', 'TA'] \n",
      "\n",
      "fence:\n",
      "['GdPrv', 'GdPrv']\n",
      "['NA', 'NA'] \n",
      "\n",
      "misc_feature:\n",
      "['Elev', 'Gar2']\n",
      "['Shed', 'Shed'] \n",
      "\n",
      "sale_type:\n",
      "['COD', 'COD']\n",
      "['WD ', 'WD '] \n",
      "\n"
     ]
    }
   ],
   "source": [
    "# checking for user-defined null values (expecting these to be strings, not something found in int/float columns)\n",
    "# this is a crude approach, but one of few worth trying\n",
    "for column in train_df.columns:\n",
    "    if train_df[column].dtypes == object:\n",
    "        sorted_list = list(train_df[column].sort_values())\n",
    "        print(column + ':')\n",
    "        print(sorted_list[0:2])\n",
    "        print(sorted_list[-3:-1], '\\n')"
   ]
  },
  {
   "cell_type": "code",
   "execution_count": 55,
   "metadata": {
    "scrolled": false
   },
   "outputs": [
    {
     "name": "stdout",
     "output_type": "stream",
     "text": [
      "lot_frontage \n",
      " 330 (~16.1%) \n",
      "\n",
      "garage_yr_blt \n",
      " 114 (~5.6%) \n",
      "\n"
     ]
    }
   ],
   "source": [
    "# checking for columns missing a lot of values\n",
    "number_null = []\n",
    "percent_null = []\n",
    "for column in train_df.columns:\n",
    "    number_null.append(train_df[column].isna().sum())\n",
    "    percent_null.append(round((train_df[column].isna().sum() / len(train_df[column])) * 100, 1))\n",
    "\n",
    "number_null = pd.Series(number_null)\n",
    "percent_null = pd.Series(percent_null)\n",
    "\n",
    "# storing and printing these columns\n",
    "columns_of_NaN = []\n",
    "for i in number_null.sort_values(ascending=False).index:\n",
    "    if (train_df.iloc[:,i].isna().sum() / len(train_df.iloc[:,i])) > .05:\n",
    "        columns_of_NaN.append(train_df.columns[i])\n",
    "        print(train_df.columns[i], '\\n', number_null[i], '(~' + str(percent_null[i]) + '%)', '\\n')"
   ]
  },
  {
   "cell_type": "markdown",
   "metadata": {},
   "source": [
    "The garage_yr_blt feature is missing a significant number of values, but there is reason to suspect that these missing values should have been 'NA' for no garage. To be sure, an additional check is made."
   ]
  },
  {
   "cell_type": "code",
   "execution_count": 56,
   "metadata": {
    "scrolled": true
   },
   "outputs": [
    {
     "name": "stdout",
     "output_type": "stream",
     "text": [
      "1\n",
      "113\n"
     ]
    }
   ],
   "source": [
    "# checking missing and 'NA' values for column garage_qual (which is related to column garage_yr_blt)\n",
    "print(train_df['garage_qual'].isna().sum())\n",
    "print(train_df['garage_qual'][train_df['garage_qual'] == 'NA'].count())"
   ]
  },
  {
   "cell_type": "markdown",
   "metadata": {},
   "source": [
    "A similar feature is showing an almost equal number of values as 'NA'. This supports the suspicion that a mistake was made in data entry for garage_yr_blt, leading to a decision to retain the missing entries in garage_yr_blt by replacing them with 'NA'. The one row these columns presumably share in common, the row presumably missing data for both, is dropped later in the analysis. "
   ]
  },
  {
   "cell_type": "code",
   "execution_count": 57,
   "metadata": {},
   "outputs": [],
   "source": [
    "# Filling null values in garage_yr_blt with 'NA' -\n",
    "# for both training and testing sets\n",
    "train_df['garage_yr_blt'] = train_df['garage_yr_blt'].fillna('NA')\n",
    "test_df['garage_yr_blt'] = test_df['garage_yr_blt'].fillna('NA')"
   ]
  },
  {
   "cell_type": "markdown",
   "metadata": {},
   "source": [
    "The column lot_frontage, on the other hand, is missing both values and a reason to keep it. Since so many values are missing from it, it will simply be dropped from consideration. "
   ]
  },
  {
   "cell_type": "code",
   "execution_count": 58,
   "metadata": {},
   "outputs": [],
   "source": [
    "# dropping column lot_frontage -\n",
    "# for both training and testing sets\n",
    "train_df = train_df.drop(columns=columns_of_NaN[0])\n",
    "test_df = test_df.drop(columns=columns_of_NaN[0])"
   ]
  },
  {
   "cell_type": "code",
   "execution_count": 59,
   "metadata": {},
   "outputs": [
    {
     "name": "stdout",
     "output_type": "stream",
     "text": [
      "total number of rows missing data: 29 out of 2051\n"
     ]
    },
    {
     "data": {
      "text/html": [
       "<div>\n",
       "<style scoped>\n",
       "    .dataframe tbody tr th:only-of-type {\n",
       "        vertical-align: middle;\n",
       "    }\n",
       "\n",
       "    .dataframe tbody tr th {\n",
       "        vertical-align: top;\n",
       "    }\n",
       "\n",
       "    .dataframe thead th {\n",
       "        text-align: right;\n",
       "    }\n",
       "</style>\n",
       "<table border=\"1\" class=\"dataframe\">\n",
       "  <thead>\n",
       "    <tr style=\"text-align: right;\">\n",
       "      <th></th>\n",
       "      <th>features</th>\n",
       "      <th>num_missing</th>\n",
       "    </tr>\n",
       "  </thead>\n",
       "  <tbody>\n",
       "    <tr>\n",
       "      <th>0</th>\n",
       "      <td>mas_vnr_type</td>\n",
       "      <td>22</td>\n",
       "    </tr>\n",
       "    <tr>\n",
       "      <th>1</th>\n",
       "      <td>mas_vnr_area</td>\n",
       "      <td>22</td>\n",
       "    </tr>\n",
       "    <tr>\n",
       "      <th>2</th>\n",
       "      <td>bsmt_exposure</td>\n",
       "      <td>4</td>\n",
       "    </tr>\n",
       "    <tr>\n",
       "      <th>3</th>\n",
       "      <td>bsmtfin_type_2</td>\n",
       "      <td>2</td>\n",
       "    </tr>\n",
       "    <tr>\n",
       "      <th>4</th>\n",
       "      <td>bsmt_half_bath</td>\n",
       "      <td>2</td>\n",
       "    </tr>\n",
       "    <tr>\n",
       "      <th>5</th>\n",
       "      <td>bsmt_full_bath</td>\n",
       "      <td>2</td>\n",
       "    </tr>\n",
       "    <tr>\n",
       "      <th>6</th>\n",
       "      <td>bsmtfin_type_1</td>\n",
       "      <td>1</td>\n",
       "    </tr>\n",
       "    <tr>\n",
       "      <th>7</th>\n",
       "      <td>garage_finish</td>\n",
       "      <td>1</td>\n",
       "    </tr>\n",
       "    <tr>\n",
       "      <th>8</th>\n",
       "      <td>garage_cars</td>\n",
       "      <td>1</td>\n",
       "    </tr>\n",
       "    <tr>\n",
       "      <th>9</th>\n",
       "      <td>garage_area</td>\n",
       "      <td>1</td>\n",
       "    </tr>\n",
       "    <tr>\n",
       "      <th>10</th>\n",
       "      <td>garage_qual</td>\n",
       "      <td>1</td>\n",
       "    </tr>\n",
       "    <tr>\n",
       "      <th>11</th>\n",
       "      <td>garage_cond</td>\n",
       "      <td>1</td>\n",
       "    </tr>\n",
       "    <tr>\n",
       "      <th>12</th>\n",
       "      <td>bsmtfin_sf_1</td>\n",
       "      <td>1</td>\n",
       "    </tr>\n",
       "    <tr>\n",
       "      <th>13</th>\n",
       "      <td>bsmt_qual</td>\n",
       "      <td>1</td>\n",
       "    </tr>\n",
       "    <tr>\n",
       "      <th>14</th>\n",
       "      <td>bsmt_cond</td>\n",
       "      <td>1</td>\n",
       "    </tr>\n",
       "    <tr>\n",
       "      <th>15</th>\n",
       "      <td>total_bsmt_sf</td>\n",
       "      <td>1</td>\n",
       "    </tr>\n",
       "    <tr>\n",
       "      <th>16</th>\n",
       "      <td>bsmt_unf_sf</td>\n",
       "      <td>1</td>\n",
       "    </tr>\n",
       "    <tr>\n",
       "      <th>17</th>\n",
       "      <td>bsmtfin_sf_2</td>\n",
       "      <td>1</td>\n",
       "    </tr>\n",
       "  </tbody>\n",
       "</table>\n",
       "</div>"
      ],
      "text/plain": [
       "          features  num_missing\n",
       "0     mas_vnr_type           22\n",
       "1     mas_vnr_area           22\n",
       "2    bsmt_exposure            4\n",
       "3   bsmtfin_type_2            2\n",
       "4   bsmt_half_bath            2\n",
       "5   bsmt_full_bath            2\n",
       "6   bsmtfin_type_1            1\n",
       "7    garage_finish            1\n",
       "8      garage_cars            1\n",
       "9      garage_area            1\n",
       "10     garage_qual            1\n",
       "11     garage_cond            1\n",
       "12    bsmtfin_sf_1            1\n",
       "13       bsmt_qual            1\n",
       "14       bsmt_cond            1\n",
       "15   total_bsmt_sf            1\n",
       "16     bsmt_unf_sf            1\n",
       "17    bsmtfin_sf_2            1"
      ]
     },
     "execution_count": 59,
     "metadata": {},
     "output_type": "execute_result"
    }
   ],
   "source": [
    "# checking for other missing values (per column)\n",
    "print('total number of rows missing data:', train_df.isnull().any(axis=1).sum(), 'out of', train_df.shape[0])\n",
    "pd.DataFrame(train_df.isna().sum().sort_values(ascending=False)[train_df.isna().sum().sort_values(ascending=False) > 0]).reset_index().rename(columns={'index': 'features', 0: 'num_missing'})"
   ]
  },
  {
   "cell_type": "markdown",
   "metadata": {},
   "source": [
    "With so few rows missing data, it is assumed that it is safe to drop these rows."
   ]
  },
  {
   "cell_type": "code",
   "execution_count": 60,
   "metadata": {},
   "outputs": [
    {
     "name": "stdout",
     "output_type": "stream",
     "text": [
      "total number of rows missing data: 0 out of 2022\n"
     ]
    }
   ],
   "source": [
    "# dropping rows with null values\n",
    "train_df = train_df.dropna()\n",
    "\n",
    "print('total number of rows missing data:', train_df.isnull().any(axis=1).sum(), 'out of', train_df.shape[0])"
   ]
  },
  {
   "cell_type": "code",
   "execution_count": 61,
   "metadata": {},
   "outputs": [
    {
     "data": {
      "text/html": [
       "<div>\n",
       "<style scoped>\n",
       "    .dataframe tbody tr th:only-of-type {\n",
       "        vertical-align: middle;\n",
       "    }\n",
       "\n",
       "    .dataframe tbody tr th {\n",
       "        vertical-align: top;\n",
       "    }\n",
       "\n",
       "    .dataframe thead th {\n",
       "        text-align: right;\n",
       "    }\n",
       "</style>\n",
       "<table border=\"1\" class=\"dataframe\">\n",
       "  <thead>\n",
       "    <tr style=\"text-align: right;\">\n",
       "      <th></th>\n",
       "      <th>features</th>\n",
       "      <th>num_missing</th>\n",
       "    </tr>\n",
       "  </thead>\n",
       "  <tbody>\n",
       "    <tr>\n",
       "      <th>0</th>\n",
       "      <td>garage_finish</td>\n",
       "      <td>1</td>\n",
       "    </tr>\n",
       "    <tr>\n",
       "      <th>1</th>\n",
       "      <td>electrical</td>\n",
       "      <td>1</td>\n",
       "    </tr>\n",
       "    <tr>\n",
       "      <th>2</th>\n",
       "      <td>mas_vnr_type</td>\n",
       "      <td>1</td>\n",
       "    </tr>\n",
       "    <tr>\n",
       "      <th>3</th>\n",
       "      <td>mas_vnr_area</td>\n",
       "      <td>1</td>\n",
       "    </tr>\n",
       "  </tbody>\n",
       "</table>\n",
       "</div>"
      ],
      "text/plain": [
       "        features  num_missing\n",
       "0  garage_finish            1\n",
       "1     electrical            1\n",
       "2   mas_vnr_type            1\n",
       "3   mas_vnr_area            1"
      ]
     },
     "execution_count": 61,
     "metadata": {},
     "output_type": "execute_result"
    }
   ],
   "source": [
    "# checking test set for missing values (per column)\n",
    "pd.DataFrame(test_df.isna().sum().sort_values(ascending=False)[test_df.isna().sum().sort_values(ascending=False) > 0]).reset_index().rename(columns={'index': 'features', 0: 'num_missing'})"
   ]
  },
  {
   "cell_type": "markdown",
   "metadata": {},
   "source": [
    "Unfortunately, rows are missing data in the test set as well, and these rows cannot simply be dropped if a prediction is to be made for each y value. From documentation, these missing values should likely be the following (to which they are changed)."
   ]
  },
  {
   "cell_type": "code",
   "execution_count": 62,
   "metadata": {},
   "outputs": [],
   "source": [
    "# replacing missing values in test set\n",
    "test_df['mas_vnr_type'] = test_df['mas_vnr_type'].fillna('None')\n",
    "test_df['mas_vnr_area'] = test_df['mas_vnr_area'].fillna(0)\n",
    "test_df['garage_finish'] = test_df['garage_finish'].fillna('NA')"
   ]
  },
  {
   "cell_type": "code",
   "execution_count": 63,
   "metadata": {},
   "outputs": [
    {
     "data": {
      "text/plain": [
       "0"
      ]
     },
     "execution_count": 63,
     "metadata": {},
     "output_type": "execute_result"
    }
   ],
   "source": [
    "# checking how many rows are duplicated\n",
    "train_df.duplicated().sum()"
   ]
  },
  {
   "cell_type": "code",
   "execution_count": 64,
   "metadata": {},
   "outputs": [
    {
     "name": "stdout",
     "output_type": "stream",
     "text": [
      "No unusual duplicates found in any column!\n"
     ]
    }
   ],
   "source": [
    "# checking for unusual duplicates per column (e.g. duplicate id's)\n",
    "count = 0\n",
    "for column in train_df.columns:\n",
    "    if (0 < ((train_df[column].duplicated().sum() / train_df[column].count()) * 100) < 5): \n",
    "        count += 1\n",
    "        print(column, train_df[column].duplicated().sum())\n",
    "if count == 0:\n",
    "    print('No unusual duplicates found in any column!')"
   ]
  },
  {
   "cell_type": "markdown",
   "metadata": {},
   "source": [
    "## Data Exploration\n",
    "\n",
    "From here, a better perspective on the data is desired. Summary statistics and the linear relationship between the target and its features will all be considered."
   ]
  },
  {
   "cell_type": "code",
   "execution_count": 65,
   "metadata": {},
   "outputs": [
    {
     "data": {
      "text/html": [
       "<div>\n",
       "<style scoped>\n",
       "    .dataframe tbody tr th:only-of-type {\n",
       "        vertical-align: middle;\n",
       "    }\n",
       "\n",
       "    .dataframe tbody tr th {\n",
       "        vertical-align: top;\n",
       "    }\n",
       "\n",
       "    .dataframe thead th {\n",
       "        text-align: right;\n",
       "    }\n",
       "</style>\n",
       "<table border=\"1\" class=\"dataframe\">\n",
       "  <thead>\n",
       "    <tr style=\"text-align: right;\">\n",
       "      <th></th>\n",
       "      <th>count</th>\n",
       "      <th>mean</th>\n",
       "      <th>std</th>\n",
       "      <th>min</th>\n",
       "      <th>25%</th>\n",
       "      <th>50%</th>\n",
       "      <th>75%</th>\n",
       "      <th>max</th>\n",
       "    </tr>\n",
       "  </thead>\n",
       "  <tbody>\n",
       "    <tr>\n",
       "      <th>id</th>\n",
       "      <td>2022.0</td>\n",
       "      <td>1.473333e+03</td>\n",
       "      <td>8.450278e+02</td>\n",
       "      <td>1.0</td>\n",
       "      <td>7.522500e+02</td>\n",
       "      <td>1480.5</td>\n",
       "      <td>2.196500e+03</td>\n",
       "      <td>2930.0</td>\n",
       "    </tr>\n",
       "    <tr>\n",
       "      <th>pid</th>\n",
       "      <td>2022.0</td>\n",
       "      <td>7.147327e+08</td>\n",
       "      <td>1.887065e+08</td>\n",
       "      <td>526301100.0</td>\n",
       "      <td>5.284771e+08</td>\n",
       "      <td>535454580.0</td>\n",
       "      <td>9.071801e+08</td>\n",
       "      <td>924152030.0</td>\n",
       "    </tr>\n",
       "    <tr>\n",
       "      <th>ms_subclass</th>\n",
       "      <td>2022.0</td>\n",
       "      <td>5.716864e+01</td>\n",
       "      <td>4.296971e+01</td>\n",
       "      <td>20.0</td>\n",
       "      <td>2.000000e+01</td>\n",
       "      <td>50.0</td>\n",
       "      <td>7.000000e+01</td>\n",
       "      <td>190.0</td>\n",
       "    </tr>\n",
       "    <tr>\n",
       "      <th>lot_area</th>\n",
       "      <td>2022.0</td>\n",
       "      <td>1.003650e+04</td>\n",
       "      <td>6.713691e+03</td>\n",
       "      <td>1300.0</td>\n",
       "      <td>7.500000e+03</td>\n",
       "      <td>9400.0</td>\n",
       "      <td>1.149800e+04</td>\n",
       "      <td>159000.0</td>\n",
       "    </tr>\n",
       "    <tr>\n",
       "      <th>overall_qual</th>\n",
       "      <td>2022.0</td>\n",
       "      <td>6.099407e+00</td>\n",
       "      <td>1.424848e+00</td>\n",
       "      <td>1.0</td>\n",
       "      <td>5.000000e+00</td>\n",
       "      <td>6.0</td>\n",
       "      <td>7.000000e+00</td>\n",
       "      <td>10.0</td>\n",
       "    </tr>\n",
       "    <tr>\n",
       "      <th>overall_cond</th>\n",
       "      <td>2022.0</td>\n",
       "      <td>5.568249e+00</td>\n",
       "      <td>1.108217e+00</td>\n",
       "      <td>1.0</td>\n",
       "      <td>5.000000e+00</td>\n",
       "      <td>5.0</td>\n",
       "      <td>6.000000e+00</td>\n",
       "      <td>9.0</td>\n",
       "    </tr>\n",
       "    <tr>\n",
       "      <th>year_built</th>\n",
       "      <td>2022.0</td>\n",
       "      <td>1.971351e+03</td>\n",
       "      <td>3.013948e+01</td>\n",
       "      <td>1872.0</td>\n",
       "      <td>1.953000e+03</td>\n",
       "      <td>1973.0</td>\n",
       "      <td>2.000000e+03</td>\n",
       "      <td>2010.0</td>\n",
       "    </tr>\n",
       "    <tr>\n",
       "      <th>year_remod/add</th>\n",
       "      <td>2022.0</td>\n",
       "      <td>1.983940e+03</td>\n",
       "      <td>2.103632e+01</td>\n",
       "      <td>1950.0</td>\n",
       "      <td>1.964000e+03</td>\n",
       "      <td>1993.0</td>\n",
       "      <td>2.004000e+03</td>\n",
       "      <td>2010.0</td>\n",
       "    </tr>\n",
       "    <tr>\n",
       "      <th>mas_vnr_area</th>\n",
       "      <td>2022.0</td>\n",
       "      <td>9.971167e+01</td>\n",
       "      <td>1.751300e+02</td>\n",
       "      <td>0.0</td>\n",
       "      <td>0.000000e+00</td>\n",
       "      <td>0.0</td>\n",
       "      <td>1.607500e+02</td>\n",
       "      <td>1600.0</td>\n",
       "    </tr>\n",
       "    <tr>\n",
       "      <th>bsmtfin_sf_1</th>\n",
       "      <td>2022.0</td>\n",
       "      <td>4.423289e+02</td>\n",
       "      <td>4.606836e+02</td>\n",
       "      <td>0.0</td>\n",
       "      <td>0.000000e+00</td>\n",
       "      <td>368.0</td>\n",
       "      <td>7.330000e+02</td>\n",
       "      <td>5644.0</td>\n",
       "    </tr>\n",
       "    <tr>\n",
       "      <th>bsmtfin_sf_2</th>\n",
       "      <td>2022.0</td>\n",
       "      <td>4.823937e+01</td>\n",
       "      <td>1.656810e+02</td>\n",
       "      <td>0.0</td>\n",
       "      <td>0.000000e+00</td>\n",
       "      <td>0.0</td>\n",
       "      <td>0.000000e+00</td>\n",
       "      <td>1474.0</td>\n",
       "    </tr>\n",
       "    <tr>\n",
       "      <th>bsmt_unf_sf</th>\n",
       "      <td>2022.0</td>\n",
       "      <td>5.652418e+02</td>\n",
       "      <td>4.435225e+02</td>\n",
       "      <td>0.0</td>\n",
       "      <td>2.200000e+02</td>\n",
       "      <td>473.5</td>\n",
       "      <td>8.087500e+02</td>\n",
       "      <td>2336.0</td>\n",
       "    </tr>\n",
       "    <tr>\n",
       "      <th>total_bsmt_sf</th>\n",
       "      <td>2022.0</td>\n",
       "      <td>1.055810e+03</td>\n",
       "      <td>4.466700e+02</td>\n",
       "      <td>0.0</td>\n",
       "      <td>7.930000e+02</td>\n",
       "      <td>994.0</td>\n",
       "      <td>1.314000e+03</td>\n",
       "      <td>6110.0</td>\n",
       "    </tr>\n",
       "    <tr>\n",
       "      <th>1st_flr_sf</th>\n",
       "      <td>2022.0</td>\n",
       "      <td>1.162318e+03</td>\n",
       "      <td>3.915227e+02</td>\n",
       "      <td>334.0</td>\n",
       "      <td>8.792500e+02</td>\n",
       "      <td>1092.0</td>\n",
       "      <td>1.401500e+03</td>\n",
       "      <td>5095.0</td>\n",
       "    </tr>\n",
       "    <tr>\n",
       "      <th>2nd_flr_sf</th>\n",
       "      <td>2022.0</td>\n",
       "      <td>3.283823e+02</td>\n",
       "      <td>4.252612e+02</td>\n",
       "      <td>0.0</td>\n",
       "      <td>0.000000e+00</td>\n",
       "      <td>0.0</td>\n",
       "      <td>6.890000e+02</td>\n",
       "      <td>1862.0</td>\n",
       "    </tr>\n",
       "    <tr>\n",
       "      <th>low_qual_fin_sf</th>\n",
       "      <td>2022.0</td>\n",
       "      <td>5.591988e+00</td>\n",
       "      <td>5.142967e+01</td>\n",
       "      <td>0.0</td>\n",
       "      <td>0.000000e+00</td>\n",
       "      <td>0.0</td>\n",
       "      <td>0.000000e+00</td>\n",
       "      <td>1064.0</td>\n",
       "    </tr>\n",
       "    <tr>\n",
       "      <th>gr_liv_area</th>\n",
       "      <td>2022.0</td>\n",
       "      <td>1.496292e+03</td>\n",
       "      <td>4.993392e+02</td>\n",
       "      <td>334.0</td>\n",
       "      <td>1.126000e+03</td>\n",
       "      <td>1441.5</td>\n",
       "      <td>1.728000e+03</td>\n",
       "      <td>5642.0</td>\n",
       "    </tr>\n",
       "    <tr>\n",
       "      <th>bsmt_full_bath</th>\n",
       "      <td>2022.0</td>\n",
       "      <td>4.277943e-01</td>\n",
       "      <td>5.230737e-01</td>\n",
       "      <td>0.0</td>\n",
       "      <td>0.000000e+00</td>\n",
       "      <td>0.0</td>\n",
       "      <td>1.000000e+00</td>\n",
       "      <td>3.0</td>\n",
       "    </tr>\n",
       "    <tr>\n",
       "      <th>bsmt_half_bath</th>\n",
       "      <td>2022.0</td>\n",
       "      <td>6.429278e-02</td>\n",
       "      <td>2.532734e-01</td>\n",
       "      <td>0.0</td>\n",
       "      <td>0.000000e+00</td>\n",
       "      <td>0.0</td>\n",
       "      <td>0.000000e+00</td>\n",
       "      <td>2.0</td>\n",
       "    </tr>\n",
       "    <tr>\n",
       "      <th>full_bath</th>\n",
       "      <td>2022.0</td>\n",
       "      <td>1.570227e+00</td>\n",
       "      <td>5.464689e-01</td>\n",
       "      <td>0.0</td>\n",
       "      <td>1.000000e+00</td>\n",
       "      <td>2.0</td>\n",
       "      <td>2.000000e+00</td>\n",
       "      <td>4.0</td>\n",
       "    </tr>\n",
       "    <tr>\n",
       "      <th>half_bath</th>\n",
       "      <td>2022.0</td>\n",
       "      <td>3.679525e-01</td>\n",
       "      <td>4.995016e-01</td>\n",
       "      <td>0.0</td>\n",
       "      <td>0.000000e+00</td>\n",
       "      <td>0.0</td>\n",
       "      <td>1.000000e+00</td>\n",
       "      <td>2.0</td>\n",
       "    </tr>\n",
       "    <tr>\n",
       "      <th>bedroom_abvgr</th>\n",
       "      <td>2022.0</td>\n",
       "      <td>2.843719e+00</td>\n",
       "      <td>8.271181e-01</td>\n",
       "      <td>0.0</td>\n",
       "      <td>2.000000e+00</td>\n",
       "      <td>3.0</td>\n",
       "      <td>3.000000e+00</td>\n",
       "      <td>8.0</td>\n",
       "    </tr>\n",
       "    <tr>\n",
       "      <th>kitchen_abvgr</th>\n",
       "      <td>2022.0</td>\n",
       "      <td>1.043027e+00</td>\n",
       "      <td>2.101538e-01</td>\n",
       "      <td>0.0</td>\n",
       "      <td>1.000000e+00</td>\n",
       "      <td>1.0</td>\n",
       "      <td>1.000000e+00</td>\n",
       "      <td>3.0</td>\n",
       "    </tr>\n",
       "    <tr>\n",
       "      <th>totrms_abvgrd</th>\n",
       "      <td>2022.0</td>\n",
       "      <td>6.433234e+00</td>\n",
       "      <td>1.560980e+00</td>\n",
       "      <td>2.0</td>\n",
       "      <td>5.000000e+00</td>\n",
       "      <td>6.0</td>\n",
       "      <td>7.000000e+00</td>\n",
       "      <td>15.0</td>\n",
       "    </tr>\n",
       "    <tr>\n",
       "      <th>fireplaces</th>\n",
       "      <td>2022.0</td>\n",
       "      <td>5.890208e-01</td>\n",
       "      <td>6.383258e-01</td>\n",
       "      <td>0.0</td>\n",
       "      <td>0.000000e+00</td>\n",
       "      <td>1.0</td>\n",
       "      <td>1.000000e+00</td>\n",
       "      <td>4.0</td>\n",
       "    </tr>\n",
       "    <tr>\n",
       "      <th>garage_cars</th>\n",
       "      <td>2022.0</td>\n",
       "      <td>1.772008e+00</td>\n",
       "      <td>7.653737e-01</td>\n",
       "      <td>0.0</td>\n",
       "      <td>1.000000e+00</td>\n",
       "      <td>2.0</td>\n",
       "      <td>2.000000e+00</td>\n",
       "      <td>5.0</td>\n",
       "    </tr>\n",
       "    <tr>\n",
       "      <th>garage_area</th>\n",
       "      <td>2022.0</td>\n",
       "      <td>4.725129e+02</td>\n",
       "      <td>2.160098e+02</td>\n",
       "      <td>0.0</td>\n",
       "      <td>3.162500e+02</td>\n",
       "      <td>480.0</td>\n",
       "      <td>5.760000e+02</td>\n",
       "      <td>1418.0</td>\n",
       "    </tr>\n",
       "    <tr>\n",
       "      <th>wood_deck_sf</th>\n",
       "      <td>2022.0</td>\n",
       "      <td>9.419782e+01</td>\n",
       "      <td>1.290073e+02</td>\n",
       "      <td>0.0</td>\n",
       "      <td>0.000000e+00</td>\n",
       "      <td>0.0</td>\n",
       "      <td>1.680000e+02</td>\n",
       "      <td>1424.0</td>\n",
       "    </tr>\n",
       "    <tr>\n",
       "      <th>open_porch_sf</th>\n",
       "      <td>2022.0</td>\n",
       "      <td>4.704797e+01</td>\n",
       "      <td>6.610786e+01</td>\n",
       "      <td>0.0</td>\n",
       "      <td>0.000000e+00</td>\n",
       "      <td>26.0</td>\n",
       "      <td>7.000000e+01</td>\n",
       "      <td>547.0</td>\n",
       "    </tr>\n",
       "    <tr>\n",
       "      <th>enclosed_porch</th>\n",
       "      <td>2022.0</td>\n",
       "      <td>2.259298e+01</td>\n",
       "      <td>5.981107e+01</td>\n",
       "      <td>0.0</td>\n",
       "      <td>0.000000e+00</td>\n",
       "      <td>0.0</td>\n",
       "      <td>0.000000e+00</td>\n",
       "      <td>432.0</td>\n",
       "    </tr>\n",
       "    <tr>\n",
       "      <th>3ssn_porch</th>\n",
       "      <td>2022.0</td>\n",
       "      <td>2.628586e+00</td>\n",
       "      <td>2.540806e+01</td>\n",
       "      <td>0.0</td>\n",
       "      <td>0.000000e+00</td>\n",
       "      <td>0.0</td>\n",
       "      <td>0.000000e+00</td>\n",
       "      <td>508.0</td>\n",
       "    </tr>\n",
       "    <tr>\n",
       "      <th>screen_porch</th>\n",
       "      <td>2022.0</td>\n",
       "      <td>1.674827e+01</td>\n",
       "      <td>5.775003e+01</td>\n",
       "      <td>0.0</td>\n",
       "      <td>0.000000e+00</td>\n",
       "      <td>0.0</td>\n",
       "      <td>0.000000e+00</td>\n",
       "      <td>490.0</td>\n",
       "    </tr>\n",
       "    <tr>\n",
       "      <th>pool_area</th>\n",
       "      <td>2022.0</td>\n",
       "      <td>2.432245e+00</td>\n",
       "      <td>3.805158e+01</td>\n",
       "      <td>0.0</td>\n",
       "      <td>0.000000e+00</td>\n",
       "      <td>0.0</td>\n",
       "      <td>0.000000e+00</td>\n",
       "      <td>800.0</td>\n",
       "    </tr>\n",
       "    <tr>\n",
       "      <th>misc_val</th>\n",
       "      <td>2022.0</td>\n",
       "      <td>5.231405e+01</td>\n",
       "      <td>5.774597e+02</td>\n",
       "      <td>0.0</td>\n",
       "      <td>0.000000e+00</td>\n",
       "      <td>0.0</td>\n",
       "      <td>0.000000e+00</td>\n",
       "      <td>17000.0</td>\n",
       "    </tr>\n",
       "    <tr>\n",
       "      <th>mo_sold</th>\n",
       "      <td>2022.0</td>\n",
       "      <td>6.210682e+00</td>\n",
       "      <td>2.742111e+00</td>\n",
       "      <td>1.0</td>\n",
       "      <td>4.000000e+00</td>\n",
       "      <td>6.0</td>\n",
       "      <td>8.000000e+00</td>\n",
       "      <td>12.0</td>\n",
       "    </tr>\n",
       "    <tr>\n",
       "      <th>yr_sold</th>\n",
       "      <td>2022.0</td>\n",
       "      <td>2.007778e+03</td>\n",
       "      <td>1.314243e+00</td>\n",
       "      <td>2006.0</td>\n",
       "      <td>2.007000e+03</td>\n",
       "      <td>2008.0</td>\n",
       "      <td>2.009000e+03</td>\n",
       "      <td>2010.0</td>\n",
       "    </tr>\n",
       "    <tr>\n",
       "      <th>saleprice</th>\n",
       "      <td>2022.0</td>\n",
       "      <td>1.808116e+05</td>\n",
       "      <td>7.914922e+04</td>\n",
       "      <td>12789.0</td>\n",
       "      <td>1.295000e+05</td>\n",
       "      <td>161000.0</td>\n",
       "      <td>2.131875e+05</td>\n",
       "      <td>611657.0</td>\n",
       "    </tr>\n",
       "  </tbody>\n",
       "</table>\n",
       "</div>"
      ],
      "text/plain": [
       "                  count          mean           std          min  \\\n",
       "id               2022.0  1.473333e+03  8.450278e+02          1.0   \n",
       "pid              2022.0  7.147327e+08  1.887065e+08  526301100.0   \n",
       "ms_subclass      2022.0  5.716864e+01  4.296971e+01         20.0   \n",
       "lot_area         2022.0  1.003650e+04  6.713691e+03       1300.0   \n",
       "overall_qual     2022.0  6.099407e+00  1.424848e+00          1.0   \n",
       "overall_cond     2022.0  5.568249e+00  1.108217e+00          1.0   \n",
       "year_built       2022.0  1.971351e+03  3.013948e+01       1872.0   \n",
       "year_remod/add   2022.0  1.983940e+03  2.103632e+01       1950.0   \n",
       "mas_vnr_area     2022.0  9.971167e+01  1.751300e+02          0.0   \n",
       "bsmtfin_sf_1     2022.0  4.423289e+02  4.606836e+02          0.0   \n",
       "bsmtfin_sf_2     2022.0  4.823937e+01  1.656810e+02          0.0   \n",
       "bsmt_unf_sf      2022.0  5.652418e+02  4.435225e+02          0.0   \n",
       "total_bsmt_sf    2022.0  1.055810e+03  4.466700e+02          0.0   \n",
       "1st_flr_sf       2022.0  1.162318e+03  3.915227e+02        334.0   \n",
       "2nd_flr_sf       2022.0  3.283823e+02  4.252612e+02          0.0   \n",
       "low_qual_fin_sf  2022.0  5.591988e+00  5.142967e+01          0.0   \n",
       "gr_liv_area      2022.0  1.496292e+03  4.993392e+02        334.0   \n",
       "bsmt_full_bath   2022.0  4.277943e-01  5.230737e-01          0.0   \n",
       "bsmt_half_bath   2022.0  6.429278e-02  2.532734e-01          0.0   \n",
       "full_bath        2022.0  1.570227e+00  5.464689e-01          0.0   \n",
       "half_bath        2022.0  3.679525e-01  4.995016e-01          0.0   \n",
       "bedroom_abvgr    2022.0  2.843719e+00  8.271181e-01          0.0   \n",
       "kitchen_abvgr    2022.0  1.043027e+00  2.101538e-01          0.0   \n",
       "totrms_abvgrd    2022.0  6.433234e+00  1.560980e+00          2.0   \n",
       "fireplaces       2022.0  5.890208e-01  6.383258e-01          0.0   \n",
       "garage_cars      2022.0  1.772008e+00  7.653737e-01          0.0   \n",
       "garage_area      2022.0  4.725129e+02  2.160098e+02          0.0   \n",
       "wood_deck_sf     2022.0  9.419782e+01  1.290073e+02          0.0   \n",
       "open_porch_sf    2022.0  4.704797e+01  6.610786e+01          0.0   \n",
       "enclosed_porch   2022.0  2.259298e+01  5.981107e+01          0.0   \n",
       "3ssn_porch       2022.0  2.628586e+00  2.540806e+01          0.0   \n",
       "screen_porch     2022.0  1.674827e+01  5.775003e+01          0.0   \n",
       "pool_area        2022.0  2.432245e+00  3.805158e+01          0.0   \n",
       "misc_val         2022.0  5.231405e+01  5.774597e+02          0.0   \n",
       "mo_sold          2022.0  6.210682e+00  2.742111e+00          1.0   \n",
       "yr_sold          2022.0  2.007778e+03  1.314243e+00       2006.0   \n",
       "saleprice        2022.0  1.808116e+05  7.914922e+04      12789.0   \n",
       "\n",
       "                          25%          50%           75%          max  \n",
       "id               7.522500e+02       1480.5  2.196500e+03       2930.0  \n",
       "pid              5.284771e+08  535454580.0  9.071801e+08  924152030.0  \n",
       "ms_subclass      2.000000e+01         50.0  7.000000e+01        190.0  \n",
       "lot_area         7.500000e+03       9400.0  1.149800e+04     159000.0  \n",
       "overall_qual     5.000000e+00          6.0  7.000000e+00         10.0  \n",
       "overall_cond     5.000000e+00          5.0  6.000000e+00          9.0  \n",
       "year_built       1.953000e+03       1973.0  2.000000e+03       2010.0  \n",
       "year_remod/add   1.964000e+03       1993.0  2.004000e+03       2010.0  \n",
       "mas_vnr_area     0.000000e+00          0.0  1.607500e+02       1600.0  \n",
       "bsmtfin_sf_1     0.000000e+00        368.0  7.330000e+02       5644.0  \n",
       "bsmtfin_sf_2     0.000000e+00          0.0  0.000000e+00       1474.0  \n",
       "bsmt_unf_sf      2.200000e+02        473.5  8.087500e+02       2336.0  \n",
       "total_bsmt_sf    7.930000e+02        994.0  1.314000e+03       6110.0  \n",
       "1st_flr_sf       8.792500e+02       1092.0  1.401500e+03       5095.0  \n",
       "2nd_flr_sf       0.000000e+00          0.0  6.890000e+02       1862.0  \n",
       "low_qual_fin_sf  0.000000e+00          0.0  0.000000e+00       1064.0  \n",
       "gr_liv_area      1.126000e+03       1441.5  1.728000e+03       5642.0  \n",
       "bsmt_full_bath   0.000000e+00          0.0  1.000000e+00          3.0  \n",
       "bsmt_half_bath   0.000000e+00          0.0  0.000000e+00          2.0  \n",
       "full_bath        1.000000e+00          2.0  2.000000e+00          4.0  \n",
       "half_bath        0.000000e+00          0.0  1.000000e+00          2.0  \n",
       "bedroom_abvgr    2.000000e+00          3.0  3.000000e+00          8.0  \n",
       "kitchen_abvgr    1.000000e+00          1.0  1.000000e+00          3.0  \n",
       "totrms_abvgrd    5.000000e+00          6.0  7.000000e+00         15.0  \n",
       "fireplaces       0.000000e+00          1.0  1.000000e+00          4.0  \n",
       "garage_cars      1.000000e+00          2.0  2.000000e+00          5.0  \n",
       "garage_area      3.162500e+02        480.0  5.760000e+02       1418.0  \n",
       "wood_deck_sf     0.000000e+00          0.0  1.680000e+02       1424.0  \n",
       "open_porch_sf    0.000000e+00         26.0  7.000000e+01        547.0  \n",
       "enclosed_porch   0.000000e+00          0.0  0.000000e+00        432.0  \n",
       "3ssn_porch       0.000000e+00          0.0  0.000000e+00        508.0  \n",
       "screen_porch     0.000000e+00          0.0  0.000000e+00        490.0  \n",
       "pool_area        0.000000e+00          0.0  0.000000e+00        800.0  \n",
       "misc_val         0.000000e+00          0.0  0.000000e+00      17000.0  \n",
       "mo_sold          4.000000e+00          6.0  8.000000e+00         12.0  \n",
       "yr_sold          2.007000e+03       2008.0  2.009000e+03       2010.0  \n",
       "saleprice        1.295000e+05     161000.0  2.131875e+05     611657.0  "
      ]
     },
     "execution_count": 65,
     "metadata": {},
     "output_type": "execute_result"
    }
   ],
   "source": [
    "# check summary statistics\n",
    "train_df.describe().T"
   ]
  },
  {
   "cell_type": "markdown",
   "metadata": {},
   "source": [
    "Some columns have an unusually disproportionate number of one value. It is assumed that these columns are poor predictors of sale price, and so they will be dropped from consideration."
   ]
  },
  {
   "cell_type": "code",
   "execution_count": 66,
   "metadata": {},
   "outputs": [
    {
     "name": "stdout",
     "output_type": "stream",
     "text": [
      "street [99.7, 0.3] \n",
      "\n",
      "alley [93.2, 4.2] \n",
      "\n",
      "land_contour [89.8, 4.2] \n",
      "\n",
      "utilities [99.9, 0.0] \n",
      "\n",
      "land_slope [95.2, 4.4] \n",
      "\n",
      "condition_1 [86.3, 5.2] \n",
      "\n",
      "condition_2 [98.7, 0.5] \n",
      "\n",
      "bldg_type [82.7, 7.9] \n",
      "\n",
      "roof_matl [98.7, 0.7] \n",
      "\n",
      "exter_cond [86.5, 10.6] \n",
      "\n",
      "bsmt_cond [89.5, 4.3] \n",
      "\n",
      "bsmtfin_type_2 [85.3, 4.0] \n",
      "\n",
      "bsmtfin_sf_2 [87.9, 0.2] \n",
      "\n",
      "heating [98.4, 1.0] \n",
      "\n",
      "central_air [93.0, 7.0] \n",
      "\n",
      "electrical [91.0, 6.9] \n",
      "\n",
      "low_qual_fin_sf [98.4, 0.1] \n",
      "\n",
      "bsmt_half_bath [93.8, 6.0] \n",
      "\n",
      "kitchen_abvgr [95.5, 4.3] \n",
      "\n",
      "functional [93.3, 2.1] \n",
      "\n",
      "garage_qual [89.3, 5.5] \n",
      "\n",
      "garage_cond [91.0, 5.5] \n",
      "\n",
      "paved_drive [90.7, 7.4] \n",
      "\n",
      "enclosed_porch [84.0, 0.6] \n",
      "\n",
      "3ssn_porch [98.7, 0.1] \n",
      "\n",
      "screen_porch [91.0, 0.4] \n",
      "\n",
      "pool_area [99.6, 0.0] \n",
      "\n",
      "pool_qc [99.6, 0.2] \n",
      "\n",
      "fence [80.3, 11.1] \n",
      "\n",
      "misc_feature [96.8, 2.8] \n",
      "\n",
      "misc_val [96.8, 0.6] \n",
      "\n",
      "sale_type [87.3, 7.3] \n",
      "\n"
     ]
    }
   ],
   "source": [
    "# checking for columns with extreme imbalances between categories\n",
    "columns_of_imbalance = []\n",
    "for column in train_df.columns:\n",
    "    if ((list(train_df[column].value_counts() / train_df[column].count())[0] * 100) > 80):\n",
    "        columns_of_imbalance.append(column)\n",
    "        print(column, list(round((train_df[column].value_counts() / train_df[column].count()) * 100, 1))[:2], '\\n')"
   ]
  },
  {
   "cell_type": "code",
   "execution_count": 67,
   "metadata": {},
   "outputs": [],
   "source": [
    "# dropping columns above\n",
    "# for both training and testing sets\n",
    "train_df = train_df.drop(columns=columns_of_imbalance)\n",
    "test_df = test_df.drop(columns=columns_of_imbalance)"
   ]
  },
  {
   "cell_type": "code",
   "execution_count": 68,
   "metadata": {},
   "outputs": [
    {
     "data": {
      "text/html": [
       "<div>\n",
       "<style scoped>\n",
       "    .dataframe tbody tr th:only-of-type {\n",
       "        vertical-align: middle;\n",
       "    }\n",
       "\n",
       "    .dataframe tbody tr th {\n",
       "        vertical-align: top;\n",
       "    }\n",
       "\n",
       "    .dataframe thead th {\n",
       "        text-align: right;\n",
       "    }\n",
       "</style>\n",
       "<table border=\"1\" class=\"dataframe\">\n",
       "  <thead>\n",
       "    <tr style=\"text-align: right;\">\n",
       "      <th></th>\n",
       "      <th>columns</th>\n",
       "      <th>saleprice</th>\n",
       "    </tr>\n",
       "  </thead>\n",
       "  <tbody>\n",
       "    <tr>\n",
       "      <th>0</th>\n",
       "      <td>saleprice</td>\n",
       "      <td>1.000000</td>\n",
       "    </tr>\n",
       "    <tr>\n",
       "      <th>1</th>\n",
       "      <td>overall_qual</td>\n",
       "      <td>0.800208</td>\n",
       "    </tr>\n",
       "    <tr>\n",
       "      <th>2</th>\n",
       "      <td>gr_liv_area</td>\n",
       "      <td>0.699177</td>\n",
       "    </tr>\n",
       "    <tr>\n",
       "      <th>3</th>\n",
       "      <td>garage_area</td>\n",
       "      <td>0.648396</td>\n",
       "    </tr>\n",
       "    <tr>\n",
       "      <th>4</th>\n",
       "      <td>garage_cars</td>\n",
       "      <td>0.646687</td>\n",
       "    </tr>\n",
       "  </tbody>\n",
       "</table>\n",
       "</div>"
      ],
      "text/plain": [
       "        columns  saleprice\n",
       "0     saleprice   1.000000\n",
       "1  overall_qual   0.800208\n",
       "2   gr_liv_area   0.699177\n",
       "3   garage_area   0.648396\n",
       "4   garage_cars   0.646687"
      ]
     },
     "execution_count": 68,
     "metadata": {},
     "output_type": "execute_result"
    }
   ],
   "source": [
    "# checking correlation between target and it's features\n",
    "initial_correlations = train_df.corr()[['saleprice']].sort_values(by='saleprice',ascending=False).rename_axis('columns').reset_index()\n",
    "\n",
    "initial_correlations.head()"
   ]
  },
  {
   "cell_type": "markdown",
   "metadata": {},
   "source": [
    "Moving forward, label encoding is used to check for possible linear relationships between the target and it's categorical features. As there are still imbalances in how frequently each value appears, those values appearing very infrequently will be lumped together into a single label. This, it is assumed, will not affect the creation of a good model. "
   ]
  },
  {
   "cell_type": "code",
   "execution_count": 69,
   "metadata": {},
   "outputs": [
    {
     "name": "stdout",
     "output_type": "stream",
     "text": [
      "20 (~37.4%) added to ms_subclass in dictionary!\n",
      "60 (~18.9%) added to ms_subclass in dictionary!\n",
      "50 (~9.8%) added to ms_subclass in dictionary!\n",
      "120 (~6.4%) added to ms_subclass in dictionary!\n",
      "30 (~5.0%) added to ms_subclass in dictionary!\n",
      "70 (~4.4%) added to ms_subclass in dictionary!\n",
      "160 (~4.4%) added to ms_subclass in dictionary!\n",
      "80 (~4.2%) added to ms_subclass in dictionary!\n",
      "90 (~3.7%) added to ms_subclass in dictionary!\n",
      "RL (~78.1%) added to ms_zoning in dictionary!\n",
      "RM (~15.5%) added to ms_zoning in dictionary!\n",
      "FV (~4.6%) added to ms_zoning in dictionary!\n",
      "Reg (~63.4%) added to lot_shape in dictionary!\n",
      "IR1 (~33.5%) added to lot_shape in dictionary!\n",
      "Inside (~73.4%) added to lot_config in dictionary!\n",
      "Corner (~16.9%) added to lot_config in dictionary!\n",
      "CulDSac (~6.4%) added to lot_config in dictionary!\n",
      "NAmes (~15.3%) added to neighborhood in dictionary!\n",
      "CollgCr (~8.8%) added to neighborhood in dictionary!\n",
      "OldTown (~8.1%) added to neighborhood in dictionary!\n",
      "Edwards (~7.0%) added to neighborhood in dictionary!\n",
      "NridgHt (~5.9%) added to neighborhood in dictionary!\n",
      "Somerst (~5.8%) added to neighborhood in dictionary!\n",
      "Gilbert (~5.5%) added to neighborhood in dictionary!\n",
      "Sawyer (~5.5%) added to neighborhood in dictionary!\n",
      "NWAmes (~4.3%) added to neighborhood in dictionary!\n",
      "SawyerW (~4.3%) added to neighborhood in dictionary!\n",
      "Mitchel (~4.1%) added to neighborhood in dictionary!\n",
      "BrkSide (~3.7%) added to neighborhood in dictionary!\n",
      "Crawfor (~3.5%) added to neighborhood in dictionary!\n",
      "IDOTRR (~3.4%) added to neighborhood in dictionary!\n",
      "1Story (~51.6%) added to house_style in dictionary!\n",
      "2Story (~29.0%) added to house_style in dictionary!\n",
      "1.5Fin (~10.8%) added to house_style in dictionary!\n",
      "SLvl (~4.6%) added to house_style in dictionary!\n",
      "5 (~27.7%) added to overall_qual in dictionary!\n",
      "6 (~24.8%) added to overall_qual in dictionary!\n",
      "7 (~20.8%) added to overall_qual in dictionary!\n",
      "8 (~11.9%) added to overall_qual in dictionary!\n",
      "4 (~7.8%) added to overall_qual in dictionary!\n",
      "9 (~3.8%) added to overall_qual in dictionary!\n",
      "5 (~56.6%) added to overall_cond in dictionary!\n",
      "6 (~18.1%) added to overall_cond in dictionary!\n",
      "7 (~13.3%) added to overall_cond in dictionary!\n",
      "8 (~5.0%) added to overall_cond in dictionary!\n",
      "4 (~3.5%) added to overall_cond in dictionary!\n",
      "2005 (~4.9%) added to year_built in dictionary!\n",
      "2006 (~4.6%) added to year_built in dictionary!\n",
      "2007 (~3.6%) added to year_built in dictionary!\n",
      "2004 (~3.6%) added to year_built in dictionary!\n",
      "2003 (~3.0%) added to year_built in dictionary!\n",
      "1950 (~12.9%) added to year_remod/add in dictionary!\n",
      "2006 (~6.7%) added to year_remod/add in dictionary!\n",
      "2007 (~5.6%) added to year_remod/add in dictionary!\n",
      "2005 (~4.9%) added to year_remod/add in dictionary!\n",
      "2004 (~4.1%) added to year_remod/add in dictionary!\n",
      "2000 (~3.4%) added to year_remod/add in dictionary!\n",
      "2003 (~3.3%) added to year_remod/add in dictionary!\n",
      "Gable (~78.8%) added to roof_style in dictionary!\n",
      "Hip (~19.4%) added to roof_style in dictionary!\n",
      "VinylSd (~34.8%) added to exterior_1st in dictionary!\n",
      "MetalSd (~16.3%) added to exterior_1st in dictionary!\n",
      "HdBoard (~14.8%) added to exterior_1st in dictionary!\n",
      "Wd Sdng (~13.6%) added to exterior_1st in dictionary!\n",
      "Plywood (~7.5%) added to exterior_1st in dictionary!\n",
      "CemntBd (~4.3%) added to exterior_1st in dictionary!\n",
      "BrkFace (~3.2%) added to exterior_1st in dictionary!\n",
      "VinylSd (~34.6%) added to exterior_2nd in dictionary!\n",
      "MetalSd (~16.0%) added to exterior_2nd in dictionary!\n",
      "HdBoard (~13.6%) added to exterior_2nd in dictionary!\n",
      "Wd Sdng (~13.0%) added to exterior_2nd in dictionary!\n",
      "Plywood (~9.1%) added to exterior_2nd in dictionary!\n",
      "CmentBd (~4.3%) added to exterior_2nd in dictionary!\n",
      "Wd Shng (~3.1%) added to exterior_2nd in dictionary!\n",
      "None (~60.0%) added to mas_vnr_type in dictionary!\n",
      "BrkFace (~31.0%) added to mas_vnr_type in dictionary!\n",
      "Stone (~8.3%) added to mas_vnr_type in dictionary!\n",
      "0.0 (~59.9%) added to mas_vnr_area in dictionary!\n",
      "TA (~61.5%) added to exter_qual in dictionary!\n",
      "Gd (~33.3%) added to exter_qual in dictionary!\n",
      "Ex (~4.0%) added to exter_qual in dictionary!\n",
      "PConc (~44.6%) added to foundation in dictionary!\n",
      "CBlock (~42.6%) added to foundation in dictionary!\n",
      "BrkTil (~10.9%) added to foundation in dictionary!\n",
      "TA (~43.8%) added to bsmt_qual in dictionary!\n",
      "Gd (~41.8%) added to bsmt_qual in dictionary!\n",
      "Ex (~8.8%) added to bsmt_qual in dictionary!\n",
      "No (~65.3%) added to bsmt_exposure in dictionary!\n",
      "Av (~14.0%) added to bsmt_exposure in dictionary!\n",
      "Gd (~10.0%) added to bsmt_exposure in dictionary!\n",
      "Mn (~8.1%) added to bsmt_exposure in dictionary!\n",
      "GLQ (~29.8%) added to bsmtfin_type_1 in dictionary!\n",
      "Unf (~29.2%) added to bsmtfin_type_1 in dictionary!\n",
      "ALQ (~14.4%) added to bsmtfin_type_1 in dictionary!\n",
      "BLQ (~9.9%) added to bsmtfin_type_1 in dictionary!\n",
      "Rec (~9.0%) added to bsmtfin_type_1 in dictionary!\n",
      "LwQ (~5.0%) added to bsmtfin_type_1 in dictionary!\n",
      "0.0 (~31.8%) added to bsmtfin_sf_1 in dictionary!\n",
      "0.0 (~8.1%) added to bsmt_unf_sf in dictionary!\n",
      "Ex (~51.4%) added to heating_qc in dictionary!\n",
      "TA (~29.4%) added to heating_qc in dictionary!\n",
      "Gd (~15.8%) added to heating_qc in dictionary!\n",
      "Fa (~3.3%) added to heating_qc in dictionary!\n",
      "0 (~58.1%) added to 2nd_flr_sf in dictionary!\n",
      "0.0 (~58.6%) added to bsmt_full_bath in dictionary!\n",
      "1.0 (~40.2%) added to bsmt_full_bath in dictionary!\n",
      "2 (~53.2%) added to full_bath in dictionary!\n",
      "1 (~44.4%) added to full_bath in dictionary!\n",
      "0 (~64.0%) added to half_bath in dictionary!\n",
      "1 (~35.1%) added to half_bath in dictionary!\n",
      "3 (~54.0%) added to bedroom_abvgr in dictionary!\n",
      "2 (~26.5%) added to bedroom_abvgr in dictionary!\n",
      "4 (~13.0%) added to bedroom_abvgr in dictionary!\n",
      "1 (~3.7%) added to bedroom_abvgr in dictionary!\n",
      "TA (~51.6%) added to kitchen_qual in dictionary!\n",
      "Gd (~38.8%) added to kitchen_qual in dictionary!\n",
      "Ex (~7.2%) added to kitchen_qual in dictionary!\n",
      "6 (~29.1%) added to totrms_abvgrd in dictionary!\n",
      "7 (~23.1%) added to totrms_abvgrd in dictionary!\n",
      "5 (~20.0%) added to totrms_abvgrd in dictionary!\n",
      "8 (~11.0%) added to totrms_abvgrd in dictionary!\n",
      "4 (~7.1%) added to totrms_abvgrd in dictionary!\n",
      "9 (~4.8%) added to totrms_abvgrd in dictionary!\n",
      "0 (~48.9%) added to fireplaces in dictionary!\n",
      "1 (~43.7%) added to fireplaces in dictionary!\n",
      "2 (~7.1%) added to fireplaces in dictionary!\n",
      "NA (~48.9%) added to fireplace_qu in dictionary!\n",
      "Gd (~25.3%) added to fireplace_qu in dictionary!\n",
      "TA (~19.8%) added to fireplace_qu in dictionary!\n",
      "Attchd (~58.9%) added to garage_type in dictionary!\n",
      "Detchd (~26.4%) added to garage_type in dictionary!\n",
      "BuiltIn (~6.4%) added to garage_type in dictionary!\n",
      "NA (~5.5%) added to garage_type in dictionary!\n",
      "NA (~5.5%) added to garage_yr_blt in dictionary!\n",
      "2005.0 (~5.1%) added to garage_yr_blt in dictionary!\n",
      "2006.0 (~3.8%) added to garage_yr_blt in dictionary!\n",
      "2007.0 (~3.8%) added to garage_yr_blt in dictionary!\n",
      "2004.0 (~3.6%) added to garage_yr_blt in dictionary!\n",
      "2003.0 (~3.1%) added to garage_yr_blt in dictionary!\n",
      "Unf (~41.7%) added to garage_finish in dictionary!\n",
      "RFn (~28.1%) added to garage_finish in dictionary!\n",
      "Fin (~24.6%) added to garage_finish in dictionary!\n",
      "NA (~5.5%) added to garage_finish in dictionary!\n",
      "2.0 (~55.2%) added to garage_cars in dictionary!\n",
      "1.0 (~25.9%) added to garage_cars in dictionary!\n",
      "3.0 (~12.7%) added to garage_cars in dictionary!\n",
      "0.0 (~5.5%) added to garage_cars in dictionary!\n",
      "0.0 (~5.5%) added to garage_area in dictionary!\n",
      "440.0 (~3.4%) added to garage_area in dictionary!\n",
      "576.0 (~3.4%) added to garage_area in dictionary!\n",
      "0 (~52.4%) added to wood_deck_sf in dictionary!\n",
      "0 (~44.6%) added to open_porch_sf in dictionary!\n",
      "6 (~17.4%) added to mo_sold in dictionary!\n",
      "7 (~14.7%) added to mo_sold in dictionary!\n",
      "5 (~12.5%) added to mo_sold in dictionary!\n",
      "4 (~10.1%) added to mo_sold in dictionary!\n",
      "8 (~8.2%) added to mo_sold in dictionary!\n",
      "3 (~8.2%) added to mo_sold in dictionary!\n",
      "10 (~5.9%) added to mo_sold in dictionary!\n",
      "9 (~5.2%) added to mo_sold in dictionary!\n",
      "2 (~5.1%) added to mo_sold in dictionary!\n",
      "11 (~5.0%) added to mo_sold in dictionary!\n",
      "1 (~3.9%) added to mo_sold in dictionary!\n",
      "12 (~3.8%) added to mo_sold in dictionary!\n",
      "2007 (~24.1%) added to yr_sold in dictionary!\n",
      "2009 (~21.9%) added to yr_sold in dictionary!\n",
      "2006 (~21.4%) added to yr_sold in dictionary!\n",
      "2008 (~21.1%) added to yr_sold in dictionary!\n",
      "2010 (~11.5%) added to yr_sold in dictionary!\n"
     ]
    }
   ],
   "source": [
    "# creating a dictionary where (keys = columns) and (values = column values occuring significant number of times)\n",
    "list_of_order = []\n",
    "dictionary_of_significance = {}\n",
    "for column in train_df.columns:\n",
    "    dictionary_of_significance[column] = []\n",
    "    for category, percent_occurs in zip(train_df[column].value_counts().index, (train_df[column].value_counts() / train_df[column].count()) * 100):\n",
    "        if percent_occurs > 3:\n",
    "            dictionary_of_significance[column].append(category)\n",
    "            print(category, '(~' + str(round(percent_occurs, 1)) + '%)', 'added to', column, 'in dictionary!')"
   ]
  },
  {
   "cell_type": "code",
   "execution_count": 70,
   "metadata": {},
   "outputs": [],
   "source": [
    "# performing advanced label encoding (some values those not appearing in dictionary_of_significance, are treated as one)\n",
    "# saves label encoding in temporary data frames for review\n",
    "# for both training and testing sets\n",
    "train2_df = pd.DataFrame()\n",
    "test2_df = pd.DataFrame()\n",
    "train2_df['saleprice'] = train_df['saleprice']\n",
    "map_tool = {}\n",
    "for column_name, category_list in zip(dictionary_of_significance.keys(),dictionary_of_significance.values()):\n",
    "    if (column_name != 'saleprice') & (category_list != []):\n",
    "        train2_df[column_name] = train_df[column_name].map(lambda cell: 'Other' if cell not in category_list else cell)\n",
    "        test2_df[column_name] = test_df[column_name].map(lambda cell: 'Other' if cell not in category_list else cell, na_action='ignore')\n",
    "        \n",
    "        map_tool[column_name] = list(train2_df.groupby(column_name)['saleprice'].median().sort_values().index)\n",
    "        train2_df[column_name] = train2_df[column_name].map(lambda cell: map_tool[column_name].index(cell))\n",
    "        test2_df[column_name] = test2_df[column_name].map(lambda cell: map_tool[column_name].index(cell), na_action='ignore')\n",
    "    elif (column_name != 'saleprice'):\n",
    "        train2_df[column_name] = train_df[column_name]\n",
    "        test2_df[column_name] = test_df[column_name]"
   ]
  },
  {
   "cell_type": "code",
   "execution_count": 71,
   "metadata": {},
   "outputs": [
    {
     "data": {
      "text/html": [
       "<div>\n",
       "<style scoped>\n",
       "    .dataframe tbody tr th:only-of-type {\n",
       "        vertical-align: middle;\n",
       "    }\n",
       "\n",
       "    .dataframe tbody tr th {\n",
       "        vertical-align: top;\n",
       "    }\n",
       "\n",
       "    .dataframe thead th {\n",
       "        text-align: right;\n",
       "    }\n",
       "</style>\n",
       "<table border=\"1\" class=\"dataframe\">\n",
       "  <thead>\n",
       "    <tr style=\"text-align: right;\">\n",
       "      <th></th>\n",
       "      <th>columns</th>\n",
       "      <th>saleprice</th>\n",
       "    </tr>\n",
       "  </thead>\n",
       "  <tbody>\n",
       "    <tr>\n",
       "      <th>0</th>\n",
       "      <td>saleprice</td>\n",
       "      <td>1.000000</td>\n",
       "    </tr>\n",
       "    <tr>\n",
       "      <th>1</th>\n",
       "      <td>exter_qual</td>\n",
       "      <td>0.711734</td>\n",
       "    </tr>\n",
       "    <tr>\n",
       "      <th>2</th>\n",
       "      <td>garage_cars</td>\n",
       "      <td>0.703663</td>\n",
       "    </tr>\n",
       "    <tr>\n",
       "      <th>3</th>\n",
       "      <td>gr_liv_area</td>\n",
       "      <td>0.699177</td>\n",
       "    </tr>\n",
       "    <tr>\n",
       "      <th>4</th>\n",
       "      <td>kitchen_qual</td>\n",
       "      <td>0.690907</td>\n",
       "    </tr>\n",
       "  </tbody>\n",
       "</table>\n",
       "</div>"
      ],
      "text/plain": [
       "        columns  saleprice\n",
       "0     saleprice   1.000000\n",
       "1    exter_qual   0.711734\n",
       "2   garage_cars   0.703663\n",
       "3   gr_liv_area   0.699177\n",
       "4  kitchen_qual   0.690907"
      ]
     },
     "execution_count": 71,
     "metadata": {},
     "output_type": "execute_result"
    }
   ],
   "source": [
    "# checking correlation between target and it's features\n",
    "altered_correlations = train2_df.corr()[['saleprice']].sort_values(by='saleprice',ascending=False).rename_axis('columns').reset_index()\n",
    "\n",
    "altered_correlations.head()"
   ]
  },
  {
   "cell_type": "markdown",
   "metadata": {},
   "source": [
    "Some of the numeric columns were also label encoded. To ensure that correlation between them and sale price is not reduced, the following check is made, followed by remedial action in case any column has been adversely affected."
   ]
  },
  {
   "cell_type": "code",
   "execution_count": 72,
   "metadata": {},
   "outputs": [
    {
     "name": "stdout",
     "output_type": "stream",
     "text": [
      "overall_qual correlation decreased by 14.7%\n",
      "garage_area correlation decreased by 40.9%\n",
      "year_built correlation decreased by 18.0%\n",
      "year_remod/add correlation decreased by 18.7%\n",
      "mas_vnr_area correlation decreased by 9.6%\n",
      "totrms_abvgrd correlation decreased by 2.9%\n",
      "fireplaces correlation decreased by 3.9%\n",
      "bsmtfin_sf_1 correlation decreased by 24.6%\n",
      "wood_deck_sf correlation decreased by 1.4%\n",
      "2nd_flr_sf correlation decreased by 17.1%\n",
      "bsmt_unf_sf correlation decreased by 4.7%\n"
     ]
    }
   ],
   "source": [
    "# checking change in correlation after label encoding for numeric columns\n",
    "# stores columns that were adversely affected\n",
    "list_of_immunity = []\n",
    "for column in initial_correlations['columns'][1:]:\n",
    "    if column in list(altered_correlations['columns']):\n",
    "        initial_corr = abs(list(initial_correlations[initial_correlations['columns'] == column]['saleprice'])[0])\n",
    "        altered_corr = abs(list(altered_correlations[altered_correlations['columns'] == column]['saleprice'])[0])\n",
    "        if initial_corr > altered_corr:   \n",
    "            list_of_immunity.append(column)\n",
    "            print(column, 'correlation decreased by ' + str(round((initial_corr - altered_corr) * 100, 1)) + '%')"
   ]
  },
  {
   "cell_type": "code",
   "execution_count": 73,
   "metadata": {},
   "outputs": [],
   "source": [
    "# replacing columns whose correlations improved in original data frames\n",
    "# for both training and testing sets\n",
    "for column in train_df.columns[:-1]:\n",
    "    if column not in list_of_immunity:\n",
    "        train_df[column] = train2_df[column]\n",
    "        test_df[column] = test2_df[column]"
   ]
  },
  {
   "cell_type": "markdown",
   "metadata": {},
   "source": [
    "## Data Visualization\n",
    "\n",
    "This section is almost entirely self explanatory. Plots are created primarily with the purpose of visualizing aspects of the analysis. A few comments will be made for notable observations. "
   ]
  },
  {
   "cell_type": "code",
   "execution_count": 74,
   "metadata": {},
   "outputs": [],
   "source": [
    "# setting plotting style\n",
    "sns.set_style('whitegrid')"
   ]
  },
  {
   "cell_type": "code",
   "execution_count": 75,
   "metadata": {},
   "outputs": [
    {
     "data": {
      "text/plain": [
       "Text(0.5, 1.0, 'Histogram of SalePrice')"
      ]
     },
     "execution_count": 75,
     "metadata": {},
     "output_type": "execute_result"
    },
    {
     "data": {
      "image/png": "[encoded data removed]",
      "text/plain": [
       "<Figure size 432x288 with 1 Axes>"
      ]
     },
     "metadata": {},
     "output_type": "display_data"
    }
   ],
   "source": [
    "# creating histogram of column saleprice.\n",
    "sns.distplot(train_df['saleprice'],kde=False)\n",
    "plt.title('Histogram of SalePrice')"
   ]
  },
  {
   "cell_type": "markdown",
   "metadata": {},
   "source": [
    "The distribution for sale price is skewed, indicating outliers. Here, they are ignored."
   ]
  },
  {
   "cell_type": "code",
   "execution_count": 76,
   "metadata": {
    "scrolled": true
   },
   "outputs": [
    {
     "data": {
      "image/png": "[encoded data removed]",
      "text/plain": [
       "<Figure size 432x288 with 1 Axes>"
      ]
     },
     "metadata": {},
     "output_type": "display_data"
    }
   ],
   "source": [
    "sns.scatterplot(train_df['mas_vnr_area'], train_df['saleprice'], alpha=0.3)\n",
    "plt.title('Scatterplot of Mas_Vnr_Area and SalePrice');"
   ]
  },
  {
   "cell_type": "markdown",
   "metadata": {},
   "source": [
    "This scatter plot shows that certain columns with highly disproportionate value counts are still under consideration. "
   ]
  },
  {
   "cell_type": "code",
   "execution_count": 77,
   "metadata": {},
   "outputs": [
    {
     "data": {
      "text/plain": [
       "Text(0.5, 1.0, 'Heatmap of Correlations to SalePrice')"
      ]
     },
     "execution_count": 77,
     "metadata": {},
     "output_type": "execute_result"
    },
    {
     "data": {
      "image/png": "[encoded data removed]",
      "text/plain": [
       "<Figure size 720x720 with 2 Axes>"
      ]
     },
     "metadata": {},
     "output_type": "display_data"
    }
   ],
   "source": [
    "# plotting heatmap of feature correlations to SalePrice\n",
    "plt.figure(figsize=(10,10))\n",
    "heatmap = sns.heatmap(train_df.corr()[['saleprice']].sort_values(by=['saleprice'],ascending=False), vmin=-1, vmax=1, cmap='viridis')\n",
    "plt.title('Heatmap of Correlations to SalePrice')"
   ]
  },
  {
   "cell_type": "code",
   "execution_count": 78,
   "metadata": {},
   "outputs": [
    {
     "data": {
      "image/png": "[encoded data removed]",
      "text/plain": [
       "<Figure size 360x360 with 6 Axes>"
      ]
     },
     "metadata": {},
     "output_type": "display_data"
    }
   ],
   "source": [
    "# creating pairplot of columns overall_qual and saleprice\n",
    "temp = sns.pairplot(train_df[['overall_qual','saleprice']])"
   ]
  },
  {
   "cell_type": "markdown",
   "metadata": {},
   "source": [
    "Overall quality is the most highly correlated feature to sale price. From the pairplot above, it is shown that a fairly strong, positive linear relationship exists."
   ]
  },
  {
   "cell_type": "code",
   "execution_count": 79,
   "metadata": {},
   "outputs": [
    {
     "data": {
      "image/png": "[encoded data removed]",
      "text/plain": [
       "<Figure size 360x360 with 6 Axes>"
      ]
     },
     "metadata": {},
     "output_type": "display_data"
    }
   ],
   "source": [
    "# creating pairplot of columns heating_qc and saleprice\n",
    "temp = sns.pairplot(train_df[['heating_qc','saleprice']])"
   ]
  },
  {
   "cell_type": "markdown",
   "metadata": {},
   "source": [
    "After label encoding, heating quality and condition is found to share a meaningful relationship with sale price (as shown in the above pairplot). The actual labels for heating_qc are not themselves meaningful unless the actual value they represent is apparent. The following code should help with this."
   ]
  },
  {
   "cell_type": "code",
   "execution_count": 80,
   "metadata": {},
   "outputs": [
    {
     "name": "stdout",
     "output_type": "stream",
     "text": [
      "0 - Other\n",
      "1 - Fa\n",
      "2 - TA\n",
      "3 - Gd\n",
      "4 - Ex\n"
     ]
    }
   ],
   "source": [
    "for label in map_tool['heating_qc']:\n",
    "    print(map_tool['heating_qc'].index(label), '-', label)"
   ]
  },
  {
   "cell_type": "code",
   "execution_count": 81,
   "metadata": {},
   "outputs": [
    {
     "data": {
      "image/png": "[encoded data removed]",
      "text/plain": [
       "<Figure size 432x288 with 1 Axes>"
      ]
     },
     "metadata": {},
     "output_type": "display_data"
    }
   ],
   "source": [
    "train_df.groupby('garage_finish').mean()[['saleprice']].plot(kind='barh')\n",
    "plt.title('Bar Chart for Mean SalePrice per Garage_Finish')\n",
    "plt.yticks(ticks=[0,1,2,3],labels=map_tool['garage_finish']);"
   ]
  },
  {
   "cell_type": "markdown",
   "metadata": {},
   "source": [
    "A bar graph like the one above expressing mean sale price per garage finish type is another way to spot a likely relationship. "
   ]
  },
  {
   "cell_type": "markdown",
   "metadata": {},
   "source": [
    "## Data Modeling\n",
    "\n",
    "Now that the data is clean, label encoded where needed, and in perspective, a model can be created. It will be built here using the tools available, followed by an evaluation of how well it performs. "
   ]
  },
  {
   "cell_type": "code",
   "execution_count": 82,
   "metadata": {},
   "outputs": [],
   "source": [
    "# selecting those features whose correlation to sale price is at least +/- .2\n",
    "# setting X, y to build model\n",
    "features = train_df.corr()[['saleprice']].sort_values(by='saleprice',ascending=False)[abs(train_df.corr()[['saleprice']].sort_values(by='saleprice',ascending=False)) > .2].dropna().index[1:]\n",
    "X = train_df[features]\n",
    "\n",
    "y = train_df['saleprice']"
   ]
  },
  {
   "cell_type": "code",
   "execution_count": 83,
   "metadata": {},
   "outputs": [],
   "source": [
    "# splitting train data in two\n",
    "X_train, X_test, y_train, y_test = train_test_split(X, y, random_state=42)"
   ]
  },
  {
   "cell_type": "code",
   "execution_count": 84,
   "metadata": {},
   "outputs": [],
   "source": [
    "# instantiating pipeline to do the following: \n",
    "# produce polynomial features, standardize columns, and use lasso to determine and create the best linear regression model from those considered by its algorithm\n",
    "pipe = Pipeline([\n",
    "    ('pf', PolynomialFeatures(include_bias=False)),\n",
    "    ('ss', StandardScaler()),\n",
    "    ('lcv', LassoCV(max_iter=10000))\n",
    "])\n",
    "\n",
    "# fitting pipeline\n",
    "pipe.fit(X_train, y_train);"
   ]
  },
  {
   "cell_type": "markdown",
   "metadata": {},
   "source": [
    "The three blocks of code above were all that were needed to build the actual model; the following three are nearly all that are needed to evaluate it.   "
   ]
  },
  {
   "cell_type": "code",
   "execution_count": 85,
   "metadata": {},
   "outputs": [
    {
     "name": "stdout",
     "output_type": "stream",
     "text": [
      "65.27282806915724 < 150.78869873098193 < 65272.82806915724\n"
     ]
    }
   ],
   "source": [
    "# checking lasso's chosen alpha against range of alphas to rule out common issues\n",
    "print(min(pipe.named_steps['lcv'].alphas_), '<', pipe.named_steps['lcv'].alpha_, '<', max(pipe.named_steps['lcv'].alphas_))"
   ]
  },
  {
   "cell_type": "code",
   "execution_count": 86,
   "metadata": {},
   "outputs": [
    {
     "name": "stdout",
     "output_type": "stream",
     "text": [
      "train performance: 0.95 \n",
      "test performance: 0.92051\n"
     ]
    }
   ],
   "source": [
    "# checking model performance on train_test_split\n",
    "print('train performance:', round(pipe.score(X_train, y_train), 2), '\\ntest performance:', round(pipe.score(X_test, y_test), 5))"
   ]
  },
  {
   "cell_type": "code",
   "execution_count": 87,
   "metadata": {},
   "outputs": [
    {
     "data": {
      "text/plain": [
       "22490.61811868848"
      ]
     },
     "execution_count": 87,
     "metadata": {},
     "output_type": "execute_result"
    }
   ],
   "source": [
    "# using model to predict values on unseen data\n",
    "preds = pipe.predict(X_test)\n",
    "\n",
    "# checking root mean squared error\n",
    "np.sqrt(mean_squared_error(y_test, preds))"
   ]
  },
  {
   "cell_type": "markdown",
   "metadata": {},
   "source": [
    "The model performs nearly as well on unseen data as on that used to create it, evidence of a successful effort. This is further supported by comparing its root mean squared error to those of competing models on kaggle.    "
   ]
  },
  {
   "cell_type": "code",
   "execution_count": 88,
   "metadata": {
    "scrolled": true
   },
   "outputs": [
    {
     "data": {
      "image/png": "[encoded data removed]",
      "text/plain": [
       "<Figure size 360x360 with 1 Axes>"
      ]
     },
     "metadata": {},
     "output_type": "display_data"
    }
   ],
   "source": [
    "# using model to make predictions \n",
    "predictions = pipe.predict(X)\n",
    "\n",
    "# plotting predictions against true values with model line superimposed \n",
    "fig, ax = plt.subplots(figsize=(5,5))\n",
    "plt.scatter(predictions, y, alpha=0.3)\n",
    "plt.plot((predictions, y),(predictions, y), color='r')\n",
    "ax.set_xlabel('Predictions', size = 20)\n",
    "ax.set_ylabel('True Values', size = 20)\n",
    "plt.title('Model with Scatterplot of Predictions vs True Values');"
   ]
  },
  {
   "cell_type": "markdown",
   "metadata": {},
   "source": [
    "The graph above shows how well the model fits the data visually. "
   ]
  },
  {
   "cell_type": "code",
   "execution_count": 89,
   "metadata": {},
   "outputs": [
    {
     "data": {
      "image/png": "[encoded data removed]",
      "text/plain": [
       "<Figure size 576x576 with 1 Axes>"
      ]
     },
     "metadata": {},
     "output_type": "display_data"
    }
   ],
   "source": [
    "# grabbing residuals\n",
    "residuals = y - predictions\n",
    "\n",
    "# plotting residuals\n",
    "fig, ax = plt.subplots(figsize=(8,8))\n",
    "plt.scatter(predictions, residuals)\n",
    "ax.set_xlabel('Predictions', size = 20)\n",
    "ax.set_ylabel('Residuals', size = 20)\n",
    "plt.plot([0, 50], [0, 0], 'k--', lw=3)\n",
    "plt.title('Plot of Residuals');"
   ]
  },
  {
   "cell_type": "markdown",
   "metadata": {},
   "source": [
    "This residual plot shows that some critical assumptions of multiple linear regression, namely that independence of errors, normality, and equality of variances, are satisfied. "
   ]
  },
  {
   "cell_type": "code",
   "execution_count": 113,
   "metadata": {},
   "outputs": [
    {
     "data": {
      "text/html": [
       "<div>\n",
       "<style scoped>\n",
       "    .dataframe tbody tr th:only-of-type {\n",
       "        vertical-align: middle;\n",
       "    }\n",
       "\n",
       "    .dataframe tbody tr th {\n",
       "        vertical-align: top;\n",
       "    }\n",
       "\n",
       "    .dataframe thead th {\n",
       "        text-align: right;\n",
       "    }\n",
       "</style>\n",
       "<table border=\"1\" class=\"dataframe\">\n",
       "  <thead>\n",
       "    <tr style=\"text-align: right;\">\n",
       "      <th></th>\n",
       "      <th>feature</th>\n",
       "      <th>val</th>\n",
       "    </tr>\n",
       "  </thead>\n",
       "  <tbody>\n",
       "    <tr>\n",
       "      <th>44</th>\n",
       "      <td>overall_qual gr_liv_area</td>\n",
       "      <td>16404.654301</td>\n",
       "    </tr>\n",
       "    <tr>\n",
       "      <th>309</th>\n",
       "      <td>total_bsmt_sf neighborhood</td>\n",
       "      <td>14471.220978</td>\n",
       "    </tr>\n",
       "    <tr>\n",
       "      <th>769</th>\n",
       "      <td>bsmtfin_sf_1 bsmtfin_type_1</td>\n",
       "      <td>13225.518796</td>\n",
       "    </tr>\n",
       "    <tr>\n",
       "      <th>352</th>\n",
       "      <td>1st_flr_sf ms_subclass</td>\n",
       "      <td>7519.615931</td>\n",
       "    </tr>\n",
       "    <tr>\n",
       "      <th>162</th>\n",
       "      <td>gr_liv_area kitchen_qual</td>\n",
       "      <td>6874.113814</td>\n",
       "    </tr>\n",
       "    <tr>\n",
       "      <th>805</th>\n",
       "      <td>garage_yr_blt lot_area</td>\n",
       "      <td>6798.655008</td>\n",
       "    </tr>\n",
       "    <tr>\n",
       "      <th>532</th>\n",
       "      <td>mas_vnr_area mas_vnr_type</td>\n",
       "      <td>6787.075558</td>\n",
       "    </tr>\n",
       "    <tr>\n",
       "      <th>49</th>\n",
       "      <td>overall_qual 1st_flr_sf</td>\n",
       "      <td>6759.863012</td>\n",
       "    </tr>\n",
       "    <tr>\n",
       "      <th>238</th>\n",
       "      <td>bsmt_qual total_bsmt_sf</td>\n",
       "      <td>6411.373295</td>\n",
       "    </tr>\n",
       "    <tr>\n",
       "      <th>540</th>\n",
       "      <td>mas_vnr_area exterior_2nd</td>\n",
       "      <td>6333.577002</td>\n",
       "    </tr>\n",
       "  </tbody>\n",
       "</table>\n",
       "</div>"
      ],
      "text/plain": [
       "                         feature           val\n",
       "44      overall_qual gr_liv_area  16404.654301\n",
       "309   total_bsmt_sf neighborhood  14471.220978\n",
       "769  bsmtfin_sf_1 bsmtfin_type_1  13225.518796\n",
       "352       1st_flr_sf ms_subclass   7519.615931\n",
       "162     gr_liv_area kitchen_qual   6874.113814\n",
       "805       garage_yr_blt lot_area   6798.655008\n",
       "532    mas_vnr_area mas_vnr_type   6787.075558\n",
       "49       overall_qual 1st_flr_sf   6759.863012\n",
       "238      bsmt_qual total_bsmt_sf   6411.373295\n",
       "540    mas_vnr_area exterior_2nd   6333.577002"
      ]
     },
     "execution_count": 113,
     "metadata": {},
     "output_type": "execute_result"
    }
   ],
   "source": [
    "# obtaining model's most significant features and their coefficients\n",
    "pd.DataFrame({\n",
    "    'feature': pipe.named_steps['pf'].get_feature_names(X_train.columns),\n",
    "    'val': pipe.named_steps['lcv'].coef_\n",
    "}).sort_values('val', ascending=False).head(10)"
   ]
  },
  {
   "cell_type": "markdown",
   "metadata": {},
   "source": [
    "It is worth noting here that overall quality is indispensible to the model: it is the most highly correlated independent feature to sale price and one of the highest contributors toward making accurate predictions. "
   ]
  },
  {
   "cell_type": "markdown",
   "metadata": {},
   "source": [
    "## Conclusions and Recommendations\n",
    "\n",
    "The model performed well here and scored well in the kaggle competition based off the same data. Though outliers were present, their effect in this case on the success of the model was largely inconsequential.    \n",
    "\n",
    "It is concluded that the data provided is in fact useful for predicting house sale prices in Ames, Iowa, and that this is accomplished particularly well using the the model produced here. It is recommended that those responsible for future data collection be especially mindful about overall house quality as it is the single most effective feature in predicting sale price."
   ]
  },
  {
   "cell_type": "code",
   "execution_count": 42,
   "metadata": {},
   "outputs": [],
   "source": [
    "# predicting sale price using model-required features from the test data frame\n",
    "test_X = test_df[features]\n",
    "test_preds = pipe.predict(test_X)"
   ]
  },
  {
   "cell_type": "code",
   "execution_count": 43,
   "metadata": {},
   "outputs": [],
   "source": [
    "# formatting and exporting results\n",
    "to_submit = pd.DataFrame({\n",
    "    'Id': test_df['id'],\n",
    "    'SalePrice': test_preds\n",
    "})\n",
    "\n",
    "to_submit.to_csv('submissions.csv', index=False)"
   ]
  },
  {
   "cell_type": "markdown",
   "metadata": {},
   "source": [
    "## References"
   ]
  },
  {
   "cell_type": "markdown",
   "metadata": {},
   "source": [
    "[1] Data Source: Ames, Iowa Assessor’s Office<br>Original Descriptive Abstract Source: Dean De Cock"
   ]
  }
 ],
 "metadata": {
  "kernelspec": {
   "display_name": "Python 3",
   "language": "python",
   "name": "python3"
  },
  "language_info": {
   "codemirror_mode": {
    "name": "ipython",
    "version": 3
   },
   "file_extension": ".py",
   "mimetype": "text/x-python",
   "name": "python",
   "nbconvert_exporter": "python",
   "pygments_lexer": "ipython3",
   "version": "3.6.8"
  }
 },
 "nbformat": 4,
 "nbformat_minor": 2
}
